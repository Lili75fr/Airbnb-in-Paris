{
 "cells": [
  {
   "attachments": {},
   "cell_type": "markdown",
   "metadata": {},
   "source": [
    "# Pandas"
   ]
  },
  {
   "cell_type": "code",
   "execution_count": 18,
   "metadata": {
    "ExecuteTime": {
     "end_time": "2021-07-27T14:16:16.596153Z",
     "start_time": "2021-07-27T14:16:15.428884Z"
    }
   },
   "outputs": [],
   "source": [
    "import pandas as pd \n",
    "import numpy as np \n",
    "import matplotlib.pyplot as plt\n",
    "import seaborn as sns\n"
   ]
  },
  {
   "cell_type": "code",
   "execution_count": 19,
   "metadata": {},
   "outputs": [
    {
     "data": {
      "text/plain": [
       "'\\ncalendar = pd.read_csv(\"paris_calendar.csv\")\\nlisting_2  = pd.read_csv(\"paris_listings 2.csv\")\\nlisting = pd.read_csv(\"paris_listings.csv\")\\nneigbour = pd.read_csv(\"paris_neighbourhoods.csv\")\\nreview_2 = pd.read_csv(\"paris_reviews 2.csv\")\\nreview = pd.read_csv(\"paris_reviews.csv\")\\n'"
      ]
     },
     "execution_count": 19,
     "metadata": {},
     "output_type": "execute_result"
    }
   ],
   "source": [
    "\"\"\"\n",
    "calendar = pd.read_csv(\"paris_calendar.csv\")\n",
    "listing_2  = pd.read_csv(\"paris_listings 2.csv\")\n",
    "listing = pd.read_csv(\"paris_listings.csv\")\n",
    "neigbour = pd.read_csv(\"paris_neighbourhoods.csv\")\n",
    "review_2 = pd.read_csv(\"paris_reviews 2.csv\")\n",
    "review = pd.read_csv(\"paris_reviews.csv\")\n",
    "\"\"\"\n"
   ]
  },
  {
   "cell_type": "code",
   "execution_count": 20,
   "metadata": {},
   "outputs": [],
   "source": [
    "paris_l  = pd.read_csv('/Users/LPA/Desktop/PROJET DATABIRD/BASE DE DONNÉE PARIS/paris_listings.csv')\n",
    "# paris_r  = pd.read_csv(\"paris_reviews.csv\")\n",
    "# paris_n  = pd.read_csv(\"paris_neighbourhoods.csv\")"
   ]
  },
  {
   "cell_type": "code",
   "execution_count": 21,
   "metadata": {},
   "outputs": [
    {
     "data": {
      "text/plain": [
       "Index(['id', 'listing_url', 'scrape_id', 'last_scraped', 'source', 'name',\n",
       "       'description', 'neighborhood_overview', 'picture_url', 'host_id',\n",
       "       'host_url', 'host_name', 'host_since', 'host_location', 'host_about',\n",
       "       'host_response_time', 'host_response_rate', 'host_acceptance_rate',\n",
       "       'host_is_superhost', 'host_thumbnail_url', 'host_picture_url',\n",
       "       'host_neighbourhood', 'host_listings_count',\n",
       "       'host_total_listings_count', 'host_verifications',\n",
       "       'host_has_profile_pic', 'host_identity_verified', 'neighbourhood',\n",
       "       'neighbourhood_cleansed', 'neighbourhood_group_cleansed', 'latitude',\n",
       "       'longitude', 'property_type', 'room_type', 'accommodates', 'bathrooms',\n",
       "       'bathrooms_text', 'bedrooms', 'beds', 'amenities', 'price',\n",
       "       'minimum_nights', 'maximum_nights', 'minimum_minimum_nights',\n",
       "       'maximum_minimum_nights', 'minimum_maximum_nights',\n",
       "       'maximum_maximum_nights', 'minimum_nights_avg_ntm',\n",
       "       'maximum_nights_avg_ntm', 'calendar_updated', 'has_availability',\n",
       "       'availability_30', 'availability_60', 'availability_90',\n",
       "       'availability_365', 'calendar_last_scraped', 'number_of_reviews',\n",
       "       'number_of_reviews_ltm', 'number_of_reviews_l30d', 'first_review',\n",
       "       'last_review', 'review_scores_rating', 'review_scores_accuracy',\n",
       "       'review_scores_cleanliness', 'review_scores_checkin',\n",
       "       'review_scores_communication', 'review_scores_location',\n",
       "       'review_scores_value', 'license', 'instant_bookable',\n",
       "       'calculated_host_listings_count',\n",
       "       'calculated_host_listings_count_entire_homes',\n",
       "       'calculated_host_listings_count_private_rooms',\n",
       "       'calculated_host_listings_count_shared_rooms', 'reviews_per_month'],\n",
       "      dtype='object')"
      ]
     },
     "execution_count": 21,
     "metadata": {},
     "output_type": "execute_result"
    }
   ],
   "source": [
    "paris_l.columns"
   ]
  },
  {
   "cell_type": "code",
   "execution_count": 22,
   "metadata": {},
   "outputs": [],
   "source": [
    "paris_l_clean = paris_l[['id', 'host_id','host_name', 'host_since', \n",
    "       'host_response_time', 'host_response_rate', 'host_acceptance_rate',\n",
    "       'host_is_superhost', 'host_neighbourhood', 'host_listings_count',\n",
    "       'host_total_listings_count', 'host_has_profile_pic', 'host_identity_verified', 'neighbourhood',\n",
    "       'neighbourhood_cleansed', 'latitude',\n",
    "       'longitude', 'property_type', 'room_type', 'accommodates', 'bathrooms_text', 'bedrooms', 'beds', 'amenities', 'price',\n",
    "       'minimum_nights', 'maximum_nights', 'minimum_minimum_nights',\n",
    "       'maximum_minimum_nights', 'minimum_maximum_nights',\n",
    "       'maximum_maximum_nights', 'minimum_nights_avg_ntm',\n",
    "       'maximum_nights_avg_ntm', 'has_availability',\n",
    "       'availability_30', 'availability_60', 'availability_90',\n",
    "       'availability_365', 'number_of_reviews',\n",
    "       'number_of_reviews_ltm', 'number_of_reviews_l30d', 'first_review',\n",
    "       'last_review', 'review_scores_rating', 'review_scores_accuracy',\n",
    "       'review_scores_cleanliness', 'review_scores_checkin',\n",
    "       'review_scores_communication', 'review_scores_location',\n",
    "       'review_scores_value', 'instant_bookable',\n",
    "       'calculated_host_listings_count',\n",
    "       'calculated_host_listings_count_entire_homes',\n",
    "       'calculated_host_listings_count_private_rooms',\n",
    "       'calculated_host_listings_count_shared_rooms', 'reviews_per_month']]\n"
   ]
  },
  {
   "cell_type": "code",
   "execution_count": 23,
   "metadata": {},
   "outputs": [
    {
     "data": {
      "text/plain": [
       "host_response_time                              0.450887\n",
       "host_response_rate                              0.450887\n",
       "neighbourhood                                   0.428005\n",
       "host_neighbourhood                              0.420107\n",
       "host_acceptance_rate                            0.375771\n",
       "review_scores_value                             0.205038\n",
       "review_scores_location                          0.205003\n",
       "review_scores_checkin                           0.204968\n",
       "review_scores_accuracy                          0.204809\n",
       "review_scores_communication                     0.204791\n",
       "review_scores_cleanliness                       0.204739\n",
       "first_review                                    0.195589\n",
       "last_review                                     0.195589\n",
       "review_scores_rating                            0.195589\n",
       "reviews_per_month                               0.195589\n",
       "bedrooms                                        0.160332\n",
       "beds                                            0.013274\n",
       "bathrooms_text                                  0.002027\n",
       "host_is_superhost                               0.000705\n",
       "host_identity_verified                          0.000317\n",
       "host_has_profile_pic                            0.000317\n",
       "host_total_listings_count                       0.000317\n",
       "host_listings_count                             0.000317\n",
       "host_since                                      0.000317\n",
       "host_name                                       0.000317\n",
       "minimum_maximum_nights                          0.000071\n",
       "maximum_nights_avg_ntm                          0.000071\n",
       "minimum_nights_avg_ntm                          0.000071\n",
       "maximum_maximum_nights                          0.000071\n",
       "maximum_minimum_nights                          0.000071\n",
       "minimum_minimum_nights                          0.000071\n",
       "host_id                                         0.000000\n",
       "calculated_host_listings_count_shared_rooms     0.000000\n",
       "calculated_host_listings_count_private_rooms    0.000000\n",
       "calculated_host_listings_count_entire_homes     0.000000\n",
       "calculated_host_listings_count                  0.000000\n",
       "instant_bookable                                0.000000\n",
       "neighbourhood_cleansed                          0.000000\n",
       "latitude                                        0.000000\n",
       "longitude                                       0.000000\n",
       "property_type                                   0.000000\n",
       "room_type                                       0.000000\n",
       "accommodates                                    0.000000\n",
       "amenities                                       0.000000\n",
       "price                                           0.000000\n",
       "minimum_nights                                  0.000000\n",
       "number_of_reviews_l30d                          0.000000\n",
       "number_of_reviews_ltm                           0.000000\n",
       "number_of_reviews                               0.000000\n",
       "availability_365                                0.000000\n",
       "availability_90                                 0.000000\n",
       "availability_60                                 0.000000\n",
       "availability_30                                 0.000000\n",
       "has_availability                                0.000000\n",
       "maximum_nights                                  0.000000\n",
       "id                                              0.000000\n",
       "dtype: float64"
      ]
     },
     "execution_count": 23,
     "metadata": {},
     "output_type": "execute_result"
    }
   ],
   "source": [
    "paris_l_clean.isna().mean().sort_values(ascending=False)"
   ]
  },
  {
   "cell_type": "code",
   "execution_count": 24,
   "metadata": {},
   "outputs": [
    {
     "data": {
      "text/html": [
       "<div>\n",
       "<style scoped>\n",
       "    .dataframe tbody tr th:only-of-type {\n",
       "        vertical-align: middle;\n",
       "    }\n",
       "\n",
       "    .dataframe tbody tr th {\n",
       "        vertical-align: top;\n",
       "    }\n",
       "\n",
       "    .dataframe thead th {\n",
       "        text-align: right;\n",
       "    }\n",
       "</style>\n",
       "<table border=\"1\" class=\"dataframe\">\n",
       "  <thead>\n",
       "    <tr style=\"text-align: right;\">\n",
       "      <th></th>\n",
       "      <th>review_scores_accuracy</th>\n",
       "      <th>review_scores_cleanliness</th>\n",
       "      <th>review_scores_checkin</th>\n",
       "      <th>review_scores_communication</th>\n",
       "      <th>review_scores_location</th>\n",
       "      <th>review_scores_value</th>\n",
       "      <th>instant_bookable</th>\n",
       "    </tr>\n",
       "  </thead>\n",
       "  <tbody>\n",
       "    <tr>\n",
       "      <th>0</th>\n",
       "      <td>4.58</td>\n",
       "      <td>4.51</td>\n",
       "      <td>4.79</td>\n",
       "      <td>4.83</td>\n",
       "      <td>4.95</td>\n",
       "      <td>4.54</td>\n",
       "      <td>f</td>\n",
       "    </tr>\n",
       "    <tr>\n",
       "      <th>1</th>\n",
       "      <td>4.80</td>\n",
       "      <td>4.44</td>\n",
       "      <td>4.91</td>\n",
       "      <td>4.88</td>\n",
       "      <td>4.93</td>\n",
       "      <td>4.73</td>\n",
       "      <td>f</td>\n",
       "    </tr>\n",
       "    <tr>\n",
       "      <th>2</th>\n",
       "      <td>5.00</td>\n",
       "      <td>5.00</td>\n",
       "      <td>5.00</td>\n",
       "      <td>5.00</td>\n",
       "      <td>5.00</td>\n",
       "      <td>5.00</td>\n",
       "      <td>f</td>\n",
       "    </tr>\n",
       "    <tr>\n",
       "      <th>3</th>\n",
       "      <td>NaN</td>\n",
       "      <td>NaN</td>\n",
       "      <td>NaN</td>\n",
       "      <td>NaN</td>\n",
       "      <td>NaN</td>\n",
       "      <td>NaN</td>\n",
       "      <td>f</td>\n",
       "    </tr>\n",
       "    <tr>\n",
       "      <th>4</th>\n",
       "      <td>4.98</td>\n",
       "      <td>4.86</td>\n",
       "      <td>4.98</td>\n",
       "      <td>4.84</td>\n",
       "      <td>4.88</td>\n",
       "      <td>4.91</td>\n",
       "      <td>f</td>\n",
       "    </tr>\n",
       "    <tr>\n",
       "      <th>...</th>\n",
       "      <td>...</td>\n",
       "      <td>...</td>\n",
       "      <td>...</td>\n",
       "      <td>...</td>\n",
       "      <td>...</td>\n",
       "      <td>...</td>\n",
       "      <td>...</td>\n",
       "    </tr>\n",
       "    <tr>\n",
       "      <th>56721</th>\n",
       "      <td>NaN</td>\n",
       "      <td>NaN</td>\n",
       "      <td>NaN</td>\n",
       "      <td>NaN</td>\n",
       "      <td>NaN</td>\n",
       "      <td>NaN</td>\n",
       "      <td>t</td>\n",
       "    </tr>\n",
       "    <tr>\n",
       "      <th>56722</th>\n",
       "      <td>NaN</td>\n",
       "      <td>NaN</td>\n",
       "      <td>NaN</td>\n",
       "      <td>NaN</td>\n",
       "      <td>NaN</td>\n",
       "      <td>NaN</td>\n",
       "      <td>t</td>\n",
       "    </tr>\n",
       "    <tr>\n",
       "      <th>56723</th>\n",
       "      <td>NaN</td>\n",
       "      <td>NaN</td>\n",
       "      <td>NaN</td>\n",
       "      <td>NaN</td>\n",
       "      <td>NaN</td>\n",
       "      <td>NaN</td>\n",
       "      <td>t</td>\n",
       "    </tr>\n",
       "    <tr>\n",
       "      <th>56724</th>\n",
       "      <td>NaN</td>\n",
       "      <td>NaN</td>\n",
       "      <td>NaN</td>\n",
       "      <td>NaN</td>\n",
       "      <td>NaN</td>\n",
       "      <td>NaN</td>\n",
       "      <td>t</td>\n",
       "    </tr>\n",
       "    <tr>\n",
       "      <th>56725</th>\n",
       "      <td>NaN</td>\n",
       "      <td>NaN</td>\n",
       "      <td>NaN</td>\n",
       "      <td>NaN</td>\n",
       "      <td>NaN</td>\n",
       "      <td>NaN</td>\n",
       "      <td>f</td>\n",
       "    </tr>\n",
       "  </tbody>\n",
       "</table>\n",
       "<p>56726 rows × 7 columns</p>\n",
       "</div>"
      ],
      "text/plain": [
       "       review_scores_accuracy  review_scores_cleanliness  \\\n",
       "0                        4.58                       4.51   \n",
       "1                        4.80                       4.44   \n",
       "2                        5.00                       5.00   \n",
       "3                         NaN                        NaN   \n",
       "4                        4.98                       4.86   \n",
       "...                       ...                        ...   \n",
       "56721                     NaN                        NaN   \n",
       "56722                     NaN                        NaN   \n",
       "56723                     NaN                        NaN   \n",
       "56724                     NaN                        NaN   \n",
       "56725                     NaN                        NaN   \n",
       "\n",
       "       review_scores_checkin  review_scores_communication  \\\n",
       "0                       4.79                         4.83   \n",
       "1                       4.91                         4.88   \n",
       "2                       5.00                         5.00   \n",
       "3                        NaN                          NaN   \n",
       "4                       4.98                         4.84   \n",
       "...                      ...                          ...   \n",
       "56721                    NaN                          NaN   \n",
       "56722                    NaN                          NaN   \n",
       "56723                    NaN                          NaN   \n",
       "56724                    NaN                          NaN   \n",
       "56725                    NaN                          NaN   \n",
       "\n",
       "       review_scores_location  review_scores_value instant_bookable  \n",
       "0                        4.95                 4.54                f  \n",
       "1                        4.93                 4.73                f  \n",
       "2                        5.00                 5.00                f  \n",
       "3                         NaN                  NaN                f  \n",
       "4                        4.88                 4.91                f  \n",
       "...                       ...                  ...              ...  \n",
       "56721                     NaN                  NaN                t  \n",
       "56722                     NaN                  NaN                t  \n",
       "56723                     NaN                  NaN                t  \n",
       "56724                     NaN                  NaN                t  \n",
       "56725                     NaN                  NaN                f  \n",
       "\n",
       "[56726 rows x 7 columns]"
      ]
     },
     "execution_count": 24,
     "metadata": {},
     "output_type": "execute_result"
    }
   ],
   "source": [
    "paris_l_clean[[\"review_scores_accuracy\", \"review_scores_cleanliness\", \"review_scores_checkin\", \"review_scores_communication\", \"review_scores_location\", \"review_scores_value\", \"instant_bookable\"]]"
   ]
  },
  {
   "cell_type": "code",
   "execution_count": 25,
   "metadata": {},
   "outputs": [
    {
     "data": {
      "text/plain": [
       "5.00    11413\n",
       "4.00     1854\n",
       "4.50     1725\n",
       "4.67     1505\n",
       "4.75     1164\n",
       "        ...  \n",
       "3.52        1\n",
       "2.86        1\n",
       "3.24        1\n",
       "3.36        1\n",
       "2.57        1\n",
       "Name: review_scores_rating, Length: 191, dtype: int64"
      ]
     },
     "execution_count": 25,
     "metadata": {},
     "output_type": "execute_result"
    }
   ],
   "source": [
    "paris_l_clean[\"review_scores_rating\"].value_counts()"
   ]
  },
  {
   "cell_type": "code",
   "execution_count": 26,
   "metadata": {},
   "outputs": [
    {
     "data": {
      "text/html": [
       "<div>\n",
       "<style scoped>\n",
       "    .dataframe tbody tr th:only-of-type {\n",
       "        vertical-align: middle;\n",
       "    }\n",
       "\n",
       "    .dataframe tbody tr th {\n",
       "        vertical-align: top;\n",
       "    }\n",
       "\n",
       "    .dataframe thead th {\n",
       "        text-align: right;\n",
       "    }\n",
       "</style>\n",
       "<table border=\"1\" class=\"dataframe\">\n",
       "  <thead>\n",
       "    <tr style=\"text-align: right;\">\n",
       "      <th></th>\n",
       "      <th>id</th>\n",
       "      <th>host_id</th>\n",
       "      <th>host_name</th>\n",
       "      <th>host_since</th>\n",
       "      <th>host_response_time</th>\n",
       "      <th>host_response_rate</th>\n",
       "      <th>host_acceptance_rate</th>\n",
       "      <th>host_is_superhost</th>\n",
       "      <th>host_neighbourhood</th>\n",
       "      <th>host_listings_count</th>\n",
       "      <th>host_total_listings_count</th>\n",
       "      <th>host_has_profile_pic</th>\n",
       "      <th>host_identity_verified</th>\n",
       "    </tr>\n",
       "  </thead>\n",
       "  <tbody>\n",
       "    <tr>\n",
       "      <th>0</th>\n",
       "      <td>5396</td>\n",
       "      <td>7903</td>\n",
       "      <td>Borzou</td>\n",
       "      <td>2009-02-14</td>\n",
       "      <td>within an hour</td>\n",
       "      <td>100%</td>\n",
       "      <td>99%</td>\n",
       "      <td>f</td>\n",
       "      <td>Saint-Paul - Ile Saint-Louis</td>\n",
       "      <td>1.0</td>\n",
       "      <td>1.0</td>\n",
       "      <td>t</td>\n",
       "      <td>t</td>\n",
       "    </tr>\n",
       "    <tr>\n",
       "      <th>1</th>\n",
       "      <td>7397</td>\n",
       "      <td>2626</td>\n",
       "      <td>Franck</td>\n",
       "      <td>2008-08-30</td>\n",
       "      <td>within an hour</td>\n",
       "      <td>100%</td>\n",
       "      <td>67%</td>\n",
       "      <td>t</td>\n",
       "      <td>Le Marais</td>\n",
       "      <td>3.0</td>\n",
       "      <td>9.0</td>\n",
       "      <td>t</td>\n",
       "      <td>t</td>\n",
       "    </tr>\n",
       "  </tbody>\n",
       "</table>\n",
       "</div>"
      ],
      "text/plain": [
       "     id  host_id host_name  host_since host_response_time host_response_rate  \\\n",
       "0  5396     7903    Borzou  2009-02-14     within an hour               100%   \n",
       "1  7397     2626    Franck  2008-08-30     within an hour               100%   \n",
       "\n",
       "  host_acceptance_rate host_is_superhost            host_neighbourhood  \\\n",
       "0                  99%                 f  Saint-Paul - Ile Saint-Louis   \n",
       "1                  67%                 t                     Le Marais   \n",
       "\n",
       "   host_listings_count  host_total_listings_count host_has_profile_pic  \\\n",
       "0                  1.0                        1.0                    t   \n",
       "1                  3.0                        9.0                    t   \n",
       "\n",
       "  host_identity_verified  \n",
       "0                      t  \n",
       "1                      t  "
      ]
     },
     "execution_count": 26,
     "metadata": {},
     "output_type": "execute_result"
    }
   ],
   "source": [
    "host = paris_l_clean[['id', 'host_id','host_name', 'host_since', \n",
    "       'host_response_time', 'host_response_rate', 'host_acceptance_rate',\n",
    "       'host_is_superhost', 'host_neighbourhood', 'host_listings_count',\n",
    "       'host_total_listings_count', 'host_has_profile_pic', 'host_identity_verified']]\n",
    "host.head(2)"
   ]
  },
  {
   "cell_type": "code",
   "execution_count": 27,
   "metadata": {},
   "outputs": [],
   "source": [
    "host_1 = paris_l_clean[['id', 'host_id','host_name', 'host_since', \n",
    "       'host_response_time', 'host_response_rate', 'host_acceptance_rate',\n",
    "       'host_is_superhost', 'host_neighbourhood', 'host_listings_count',\n",
    "       'host_total_listings_count', 'host_has_profile_pic', 'host_identity_verified', 'review_scores_rating', 'review_scores_accuracy',\n",
    "       'review_scores_cleanliness', 'review_scores_checkin',\n",
    "       'review_scores_communication', 'review_scores_location',\n",
    "       'review_scores_value', 'instant_bookable']]"
   ]
  },
  {
   "cell_type": "code",
   "execution_count": 28,
   "metadata": {},
   "outputs": [],
   "source": [
    "host_1.to_csv(\"host_1.csv\")"
   ]
  },
  {
   "attachments": {},
   "cell_type": "markdown",
   "metadata": {},
   "source": [
    "## 1. Tout des hosts "
   ]
  },
  {
   "cell_type": "code",
   "execution_count": 29,
   "metadata": {},
   "outputs": [
    {
     "data": {
      "text/plain": [
       "id                             int64\n",
       "host_id                        int64\n",
       "host_name                     object\n",
       "host_since                    object\n",
       "host_response_time            object\n",
       "host_response_rate            object\n",
       "host_acceptance_rate          object\n",
       "host_is_superhost             object\n",
       "host_neighbourhood            object\n",
       "host_listings_count          float64\n",
       "host_total_listings_count    float64\n",
       "host_has_profile_pic          object\n",
       "host_identity_verified        object\n",
       "dtype: object"
      ]
     },
     "execution_count": 29,
     "metadata": {},
     "output_type": "execute_result"
    }
   ],
   "source": [
    "host.dtypes"
   ]
  },
  {
   "cell_type": "code",
   "execution_count": 30,
   "metadata": {},
   "outputs": [
    {
     "data": {
      "text/plain": [
       "id                           0.000000\n",
       "host_id                      0.000000\n",
       "host_name                    0.000317\n",
       "host_since                   0.000317\n",
       "host_response_time           0.450887\n",
       "host_response_rate           0.450887\n",
       "host_acceptance_rate         0.375771\n",
       "host_is_superhost            0.000705\n",
       "host_neighbourhood           0.420107\n",
       "host_listings_count          0.000317\n",
       "host_total_listings_count    0.000317\n",
       "host_has_profile_pic         0.000317\n",
       "host_identity_verified       0.000317\n",
       "dtype: float64"
      ]
     },
     "execution_count": 30,
     "metadata": {},
     "output_type": "execute_result"
    }
   ],
   "source": [
    "# compter les NaN\n",
    "host.isna().mean()"
   ]
  },
  {
   "cell_type": "code",
   "execution_count": 31,
   "metadata": {},
   "outputs": [
    {
     "name": "stdout",
     "output_type": "stream",
     "text": [
      "56726\n"
     ]
    }
   ],
   "source": [
    "# nombre des listings\n",
    "nb_annonce = host[\"id\"].unique()\n",
    "print(len(nb_annonce))"
   ]
  },
  {
   "cell_type": "code",
   "execution_count": 32,
   "metadata": {},
   "outputs": [
    {
     "name": "stdout",
     "output_type": "stream",
     "text": [
      "42490\n"
     ]
    }
   ],
   "source": [
    "# nombre de hosts\n",
    "nb_host = host[\"host_id\"].unique()\n",
    "print(len(nb_host))"
   ]
  },
  {
   "cell_type": "code",
   "execution_count": 33,
   "metadata": {},
   "outputs": [
    {
     "data": {
      "text/plain": [
       "host_id\n",
       "314994947    447\n",
       "50978178     230\n",
       "50502817     214\n",
       "7642792      196\n",
       "440295601    195\n",
       "33889201     182\n",
       "458533553    165\n",
       "26981054     156\n",
       "402191311    141\n",
       "6053288      131\n",
       "Name: id, dtype: int64"
      ]
     },
     "execution_count": 33,
     "metadata": {},
     "output_type": "execute_result"
    }
   ],
   "source": [
    "# host with the most listings, à vérifier l'authentique de codes\n",
    "grouped_data = host.groupby('host_id')['id'].count()\n",
    "grouped_data = grouped_data.sort_values(ascending=False)\n",
    "grouped_data.head(10)"
   ]
  },
  {
   "cell_type": "code",
   "execution_count": 16,
   "metadata": {},
   "outputs": [],
   "source": [
    "# changer le format de la column \"host_since\" au \"datetime\" ? (question aux filles ou Guillaume)"
   ]
  },
  {
   "cell_type": "code",
   "execution_count": 35,
   "metadata": {},
   "outputs": [
    {
     "data": {
      "text/plain": [
       "array(['within an hour', nan, 'within a few hours', 'within a day',\n",
       "       'a few days or more'], dtype=object)"
      ]
     },
     "execution_count": 35,
     "metadata": {},
     "output_type": "execute_result"
    }
   ],
   "source": [
    "# values in host_response_time :\n",
    "host[\"host_response_time\"].unique()"
   ]
  },
  {
   "cell_type": "code",
   "execution_count": 36,
   "metadata": {},
   "outputs": [
    {
     "data": {
      "text/plain": [
       "within an hour        19048\n",
       "within a few hours     6367\n",
       "within a day           4814\n",
       "a few days or more      920\n",
       "Name: host_response_time, dtype: int64"
      ]
     },
     "execution_count": 36,
     "metadata": {},
     "output_type": "execute_result"
    }
   ],
   "source": [
    "# compter la fréquence des values des \"host_response_time\"\n",
    "response_time = host[\"host_response_time\"].value_counts()\n",
    "response_time"
   ]
  },
  {
   "cell_type": "code",
   "execution_count": 37,
   "metadata": {},
   "outputs": [
    {
     "data": {
      "text/plain": [
       "within an hour        33.578959\n",
       "within a few hours    11.224130\n",
       "within a day           8.486408\n",
       "a few days or more     1.621831\n",
       "Name: host_response_time, dtype: float64"
      ]
     },
     "execution_count": 37,
     "metadata": {},
     "output_type": "execute_result"
    }
   ],
   "source": [
    "# en pourcentage des \"host_response_time\"\n",
    "percentage = response_time / len(host) * 100\n",
    "percentage"
   ]
  },
  {
   "cell_type": "code",
   "execution_count": 38,
   "metadata": {},
   "outputs": [
    {
     "data": {
      "text/plain": [
       "100%    21833\n",
       "99%      1099\n",
       "90%       996\n",
       "98%       630\n",
       "80%       522\n",
       "        ...  \n",
       "15%         1\n",
       "52%         1\n",
       "28%         1\n",
       "19%         1\n",
       "24%         1\n",
       "Name: host_response_rate, Length: 83, dtype: int64"
      ]
     },
     "execution_count": 38,
     "metadata": {},
     "output_type": "execute_result"
    }
   ],
   "source": [
    "# tous les hosts répondent ?\n",
    "response_rate = host[\"host_response_rate\"].value_counts()\n",
    "response_rate"
   ]
  },
  {
   "cell_type": "code",
   "execution_count": 39,
   "metadata": {},
   "outputs": [],
   "source": [
    "import matplotlib.pyplot as plt"
   ]
  },
  {
   "cell_type": "code",
   "execution_count": 40,
   "metadata": {},
   "outputs": [
    {
     "data": {
      "image/png": "[encoded data removed]",
      "text/plain": [
       "<Figure size 600x600 with 1 Axes>"
      ]
     },
     "metadata": {},
     "output_type": "display_data"
    }
   ],
   "source": [
    "# un camembert pour la response_rate, que les top 10\n",
    "response_rate = host[\"host_response_rate\"].value_counts().head(10)\n",
    "response_rate.plot.pie(figsize=(6, 6), autopct=\"%.1f%%\")\n",
    "\n",
    "# Add title and axis labels\n",
    "plt.title(\"Response Rate\")\n",
    "plt.ylabel(\"\")\n",
    "plt.show()"
   ]
  },
  {
   "cell_type": "code",
   "execution_count": 41,
   "metadata": {},
   "outputs": [
    {
     "data": {
      "text/plain": [
       "100%    11916\n",
       "99%      1936\n",
       "98%      1840\n",
       "95%      1368\n",
       "97%       954\n",
       "        ...  \n",
       "10%         8\n",
       "6%          7\n",
       "12%         6\n",
       "5%          5\n",
       "3%          1\n",
       "Name: host_acceptance_rate, Length: 100, dtype: int64"
      ]
     },
     "execution_count": 41,
     "metadata": {},
     "output_type": "execute_result"
    }
   ],
   "source": [
    "# compter la fréquence des values des \"host_acceptance_rate\"\n",
    "acceptance_rate = host[\"host_acceptance_rate\"].value_counts()\n",
    "acceptance_rate\n"
   ]
  },
  {
   "cell_type": "code",
   "execution_count": 42,
   "metadata": {},
   "outputs": [
    {
     "data": {
      "image/png": "[encoded data removed]",
      "text/plain": [
       "<Figure size 600x600 with 1 Axes>"
      ]
     },
     "metadata": {},
     "output_type": "display_data"
    }
   ],
   "source": [
    "# un camembert pour la host_acceptance_rate, que les top 10\n",
    "acceptance_rate = host[\"host_acceptance_rate\"].value_counts().head(10)\n",
    "acceptance_rate.plot.pie(figsize=(6, 6), autopct=\"%.1f%%\")\n",
    "\n",
    "# Add title and axis labels\n",
    "plt.title(\"acceptance rate\")\n",
    "plt.ylabel(\"\")\n",
    "plt.show()"
   ]
  },
  {
   "cell_type": "code",
   "execution_count": 43,
   "metadata": {},
   "outputs": [
    {
     "data": {
      "text/plain": [
       "f    48271\n",
       "t     8415\n",
       "Name: host_is_superhost, dtype: int64"
      ]
     },
     "execution_count": 43,
     "metadata": {},
     "output_type": "execute_result"
    }
   ],
   "source": [
    "# super host \n",
    "super_host = host[\"host_is_superhost\"].value_counts()\n",
    "super_host"
   ]
  },
  {
   "cell_type": "code",
   "execution_count": 44,
   "metadata": {},
   "outputs": [
    {
     "data": {
      "text/plain": [
       "f    85.095018\n",
       "t    14.834467\n",
       "Name: host_is_superhost, dtype: float64"
      ]
     },
     "execution_count": 44,
     "metadata": {},
     "output_type": "execute_result"
    }
   ],
   "source": [
    "# pourcentage de super_host\n",
    "super_host/len(host)*100"
   ]
  },
  {
   "cell_type": "code",
   "execution_count": 45,
   "metadata": {},
   "outputs": [
    {
     "data": {
      "text/plain": [
       "52947    2139.0\n",
       "54332    2139.0\n",
       "54414    2139.0\n",
       "54367    2139.0\n",
       "54324    2139.0\n",
       "          ...  \n",
       "27610       NaN\n",
       "27611       NaN\n",
       "27618       NaN\n",
       "34987       NaN\n",
       "37937       NaN\n",
       "Name: host_listings_count, Length: 56726, dtype: float64"
      ]
     },
     "execution_count": 45,
     "metadata": {},
     "output_type": "execute_result"
    }
   ],
   "source": [
    "# host_listings_count, pour comprendre cette colonne \n",
    "# à vérifier l'authentique de code \n",
    "host_listings_count = host[\"host_listings_count\"].sort_values(ascending=False)\n",
    "host_listings_count "
   ]
  },
  {
   "cell_type": "code",
   "execution_count": 46,
   "metadata": {},
   "outputs": [
    {
     "data": {
      "text/html": [
       "<div>\n",
       "<style scoped>\n",
       "    .dataframe tbody tr th:only-of-type {\n",
       "        vertical-align: middle;\n",
       "    }\n",
       "\n",
       "    .dataframe tbody tr th {\n",
       "        vertical-align: top;\n",
       "    }\n",
       "\n",
       "    .dataframe thead th {\n",
       "        text-align: right;\n",
       "    }\n",
       "</style>\n",
       "<table border=\"1\" class=\"dataframe\">\n",
       "  <thead>\n",
       "    <tr style=\"text-align: right;\">\n",
       "      <th></th>\n",
       "      <th>id</th>\n",
       "      <th>host_id</th>\n",
       "      <th>host_name</th>\n",
       "      <th>host_since</th>\n",
       "      <th>host_response_time</th>\n",
       "      <th>host_response_rate</th>\n",
       "      <th>host_acceptance_rate</th>\n",
       "      <th>host_is_superhost</th>\n",
       "      <th>host_neighbourhood</th>\n",
       "      <th>host_listings_count</th>\n",
       "      <th>host_total_listings_count</th>\n",
       "      <th>host_has_profile_pic</th>\n",
       "      <th>host_identity_verified</th>\n",
       "    </tr>\n",
       "  </thead>\n",
       "  <tbody>\n",
       "    <tr>\n",
       "      <th>1</th>\n",
       "      <td>7397</td>\n",
       "      <td>2626</td>\n",
       "      <td>Franck</td>\n",
       "      <td>2008-08-30</td>\n",
       "      <td>within an hour</td>\n",
       "      <td>100%</td>\n",
       "      <td>67%</td>\n",
       "      <td>t</td>\n",
       "      <td>Le Marais</td>\n",
       "      <td>3.0</td>\n",
       "      <td>9.0</td>\n",
       "      <td>t</td>\n",
       "      <td>t</td>\n",
       "    </tr>\n",
       "    <tr>\n",
       "      <th>33158</th>\n",
       "      <td>43635386</td>\n",
       "      <td>2626</td>\n",
       "      <td>Franck</td>\n",
       "      <td>2008-08-30</td>\n",
       "      <td>within an hour</td>\n",
       "      <td>100%</td>\n",
       "      <td>67%</td>\n",
       "      <td>t</td>\n",
       "      <td>Le Marais</td>\n",
       "      <td>3.0</td>\n",
       "      <td>9.0</td>\n",
       "      <td>t</td>\n",
       "      <td>t</td>\n",
       "    </tr>\n",
       "  </tbody>\n",
       "</table>\n",
       "</div>"
      ],
      "text/plain": [
       "             id  host_id host_name  host_since host_response_time  \\\n",
       "1          7397     2626    Franck  2008-08-30     within an hour   \n",
       "33158  43635386     2626    Franck  2008-08-30     within an hour   \n",
       "\n",
       "      host_response_rate host_acceptance_rate host_is_superhost  \\\n",
       "1                   100%                  67%                 t   \n",
       "33158               100%                  67%                 t   \n",
       "\n",
       "      host_neighbourhood  host_listings_count  host_total_listings_count  \\\n",
       "1              Le Marais                  3.0                        9.0   \n",
       "33158          Le Marais                  3.0                        9.0   \n",
       "\n",
       "      host_has_profile_pic host_identity_verified  \n",
       "1                        t                      t  \n",
       "33158                    t                      t  "
      ]
     },
     "execution_count": 46,
     "metadata": {},
     "output_type": "execute_result"
    }
   ],
   "source": [
    "# checking si ça fonctionne \n",
    "# bizarre car il a 3 listings mais il y a que deux lignes ?\n",
    "host_2626 = host[host[\"host_id\"] == 2626]\n",
    "host_2626.head(5)"
   ]
  },
  {
   "cell_type": "code",
   "execution_count": 47,
   "metadata": {},
   "outputs": [],
   "source": [
    "host_2626 = host[host[\"host_id\"] == 2626]"
   ]
  },
  {
   "cell_type": "code",
   "execution_count": 48,
   "metadata": {},
   "outputs": [
    {
     "data": {
      "text/html": [
       "<div>\n",
       "<style scoped>\n",
       "    .dataframe tbody tr th:only-of-type {\n",
       "        vertical-align: middle;\n",
       "    }\n",
       "\n",
       "    .dataframe tbody tr th {\n",
       "        vertical-align: top;\n",
       "    }\n",
       "\n",
       "    .dataframe thead th {\n",
       "        text-align: right;\n",
       "    }\n",
       "</style>\n",
       "<table border=\"1\" class=\"dataframe\">\n",
       "  <thead>\n",
       "    <tr style=\"text-align: right;\">\n",
       "      <th></th>\n",
       "      <th>id</th>\n",
       "      <th>host_id</th>\n",
       "      <th>host_name</th>\n",
       "      <th>host_since</th>\n",
       "      <th>host_response_time</th>\n",
       "      <th>host_response_rate</th>\n",
       "      <th>host_acceptance_rate</th>\n",
       "      <th>host_is_superhost</th>\n",
       "      <th>host_neighbourhood</th>\n",
       "      <th>host_listings_count</th>\n",
       "      <th>host_total_listings_count</th>\n",
       "      <th>host_has_profile_pic</th>\n",
       "      <th>host_identity_verified</th>\n",
       "    </tr>\n",
       "  </thead>\n",
       "  <tbody>\n",
       "    <tr>\n",
       "      <th>31845</th>\n",
       "      <td>41755373</td>\n",
       "      <td>314994947</td>\n",
       "      <td>Blueground</td>\n",
       "      <td>2019-12-06</td>\n",
       "      <td>within an hour</td>\n",
       "      <td>100%</td>\n",
       "      <td>95%</td>\n",
       "      <td>f</td>\n",
       "      <td>Le Marais</td>\n",
       "      <td>449.0</td>\n",
       "      <td>456.0</td>\n",
       "      <td>t</td>\n",
       "      <td>t</td>\n",
       "    </tr>\n",
       "    <tr>\n",
       "      <th>31897</th>\n",
       "      <td>41790360</td>\n",
       "      <td>314994947</td>\n",
       "      <td>Blueground</td>\n",
       "      <td>2019-12-06</td>\n",
       "      <td>within an hour</td>\n",
       "      <td>100%</td>\n",
       "      <td>95%</td>\n",
       "      <td>f</td>\n",
       "      <td>Le Marais</td>\n",
       "      <td>449.0</td>\n",
       "      <td>456.0</td>\n",
       "      <td>t</td>\n",
       "      <td>t</td>\n",
       "    </tr>\n",
       "    <tr>\n",
       "      <th>31936</th>\n",
       "      <td>41814001</td>\n",
       "      <td>314994947</td>\n",
       "      <td>Blueground</td>\n",
       "      <td>2019-12-06</td>\n",
       "      <td>within an hour</td>\n",
       "      <td>100%</td>\n",
       "      <td>95%</td>\n",
       "      <td>f</td>\n",
       "      <td>Le Marais</td>\n",
       "      <td>449.0</td>\n",
       "      <td>456.0</td>\n",
       "      <td>t</td>\n",
       "      <td>t</td>\n",
       "    </tr>\n",
       "    <tr>\n",
       "      <th>32383</th>\n",
       "      <td>42271699</td>\n",
       "      <td>314994947</td>\n",
       "      <td>Blueground</td>\n",
       "      <td>2019-12-06</td>\n",
       "      <td>within an hour</td>\n",
       "      <td>100%</td>\n",
       "      <td>95%</td>\n",
       "      <td>f</td>\n",
       "      <td>Le Marais</td>\n",
       "      <td>449.0</td>\n",
       "      <td>456.0</td>\n",
       "      <td>t</td>\n",
       "      <td>t</td>\n",
       "    </tr>\n",
       "    <tr>\n",
       "      <th>32399</th>\n",
       "      <td>42504779</td>\n",
       "      <td>314994947</td>\n",
       "      <td>Blueground</td>\n",
       "      <td>2019-12-06</td>\n",
       "      <td>within an hour</td>\n",
       "      <td>100%</td>\n",
       "      <td>95%</td>\n",
       "      <td>f</td>\n",
       "      <td>Le Marais</td>\n",
       "      <td>449.0</td>\n",
       "      <td>456.0</td>\n",
       "      <td>t</td>\n",
       "      <td>t</td>\n",
       "    </tr>\n",
       "    <tr>\n",
       "      <th>...</th>\n",
       "      <td>...</td>\n",
       "      <td>...</td>\n",
       "      <td>...</td>\n",
       "      <td>...</td>\n",
       "      <td>...</td>\n",
       "      <td>...</td>\n",
       "      <td>...</td>\n",
       "      <td>...</td>\n",
       "      <td>...</td>\n",
       "      <td>...</td>\n",
       "      <td>...</td>\n",
       "      <td>...</td>\n",
       "      <td>...</td>\n",
       "    </tr>\n",
       "    <tr>\n",
       "      <th>56660</th>\n",
       "      <td>846321165771914766</td>\n",
       "      <td>314994947</td>\n",
       "      <td>Blueground</td>\n",
       "      <td>2019-12-06</td>\n",
       "      <td>within an hour</td>\n",
       "      <td>100%</td>\n",
       "      <td>95%</td>\n",
       "      <td>f</td>\n",
       "      <td>Le Marais</td>\n",
       "      <td>449.0</td>\n",
       "      <td>456.0</td>\n",
       "      <td>t</td>\n",
       "      <td>t</td>\n",
       "    </tr>\n",
       "    <tr>\n",
       "      <th>56661</th>\n",
       "      <td>846322669044068092</td>\n",
       "      <td>314994947</td>\n",
       "      <td>Blueground</td>\n",
       "      <td>2019-12-06</td>\n",
       "      <td>within an hour</td>\n",
       "      <td>100%</td>\n",
       "      <td>95%</td>\n",
       "      <td>f</td>\n",
       "      <td>Le Marais</td>\n",
       "      <td>449.0</td>\n",
       "      <td>456.0</td>\n",
       "      <td>t</td>\n",
       "      <td>t</td>\n",
       "    </tr>\n",
       "    <tr>\n",
       "      <th>56672</th>\n",
       "      <td>846329760591558172</td>\n",
       "      <td>314994947</td>\n",
       "      <td>Blueground</td>\n",
       "      <td>2019-12-06</td>\n",
       "      <td>within an hour</td>\n",
       "      <td>100%</td>\n",
       "      <td>95%</td>\n",
       "      <td>f</td>\n",
       "      <td>Le Marais</td>\n",
       "      <td>449.0</td>\n",
       "      <td>456.0</td>\n",
       "      <td>t</td>\n",
       "      <td>t</td>\n",
       "    </tr>\n",
       "    <tr>\n",
       "      <th>56673</th>\n",
       "      <td>846332777690107540</td>\n",
       "      <td>314994947</td>\n",
       "      <td>Blueground</td>\n",
       "      <td>2019-12-06</td>\n",
       "      <td>within an hour</td>\n",
       "      <td>100%</td>\n",
       "      <td>95%</td>\n",
       "      <td>f</td>\n",
       "      <td>Le Marais</td>\n",
       "      <td>449.0</td>\n",
       "      <td>456.0</td>\n",
       "      <td>t</td>\n",
       "      <td>t</td>\n",
       "    </tr>\n",
       "    <tr>\n",
       "      <th>56676</th>\n",
       "      <td>846333585388413037</td>\n",
       "      <td>314994947</td>\n",
       "      <td>Blueground</td>\n",
       "      <td>2019-12-06</td>\n",
       "      <td>within an hour</td>\n",
       "      <td>100%</td>\n",
       "      <td>95%</td>\n",
       "      <td>f</td>\n",
       "      <td>Le Marais</td>\n",
       "      <td>449.0</td>\n",
       "      <td>456.0</td>\n",
       "      <td>t</td>\n",
       "      <td>t</td>\n",
       "    </tr>\n",
       "  </tbody>\n",
       "</table>\n",
       "<p>447 rows × 13 columns</p>\n",
       "</div>"
      ],
      "text/plain": [
       "                       id    host_id   host_name  host_since  \\\n",
       "31845            41755373  314994947  Blueground  2019-12-06   \n",
       "31897            41790360  314994947  Blueground  2019-12-06   \n",
       "31936            41814001  314994947  Blueground  2019-12-06   \n",
       "32383            42271699  314994947  Blueground  2019-12-06   \n",
       "32399            42504779  314994947  Blueground  2019-12-06   \n",
       "...                   ...        ...         ...         ...   \n",
       "56660  846321165771914766  314994947  Blueground  2019-12-06   \n",
       "56661  846322669044068092  314994947  Blueground  2019-12-06   \n",
       "56672  846329760591558172  314994947  Blueground  2019-12-06   \n",
       "56673  846332777690107540  314994947  Blueground  2019-12-06   \n",
       "56676  846333585388413037  314994947  Blueground  2019-12-06   \n",
       "\n",
       "      host_response_time host_response_rate host_acceptance_rate  \\\n",
       "31845     within an hour               100%                  95%   \n",
       "31897     within an hour               100%                  95%   \n",
       "31936     within an hour               100%                  95%   \n",
       "32383     within an hour               100%                  95%   \n",
       "32399     within an hour               100%                  95%   \n",
       "...                  ...                ...                  ...   \n",
       "56660     within an hour               100%                  95%   \n",
       "56661     within an hour               100%                  95%   \n",
       "56672     within an hour               100%                  95%   \n",
       "56673     within an hour               100%                  95%   \n",
       "56676     within an hour               100%                  95%   \n",
       "\n",
       "      host_is_superhost host_neighbourhood  host_listings_count  \\\n",
       "31845                 f          Le Marais                449.0   \n",
       "31897                 f          Le Marais                449.0   \n",
       "31936                 f          Le Marais                449.0   \n",
       "32383                 f          Le Marais                449.0   \n",
       "32399                 f          Le Marais                449.0   \n",
       "...                 ...                ...                  ...   \n",
       "56660                 f          Le Marais                449.0   \n",
       "56661                 f          Le Marais                449.0   \n",
       "56672                 f          Le Marais                449.0   \n",
       "56673                 f          Le Marais                449.0   \n",
       "56676                 f          Le Marais                449.0   \n",
       "\n",
       "       host_total_listings_count host_has_profile_pic host_identity_verified  \n",
       "31845                      456.0                    t                      t  \n",
       "31897                      456.0                    t                      t  \n",
       "31936                      456.0                    t                      t  \n",
       "32383                      456.0                    t                      t  \n",
       "32399                      456.0                    t                      t  \n",
       "...                          ...                  ...                    ...  \n",
       "56660                      456.0                    t                      t  \n",
       "56661                      456.0                    t                      t  \n",
       "56672                      456.0                    t                      t  \n",
       "56673                      456.0                    t                      t  \n",
       "56676                      456.0                    t                      t  \n",
       "\n",
       "[447 rows x 13 columns]"
      ]
     },
     "execution_count": 48,
     "metadata": {},
     "output_type": "execute_result"
    }
   ],
   "source": [
    "host_314994947 = host[host[\"host_id\"] == 314994947]\n",
    "host_314994947"
   ]
  },
  {
   "cell_type": "code",
   "execution_count": 49,
   "metadata": {},
   "outputs": [
    {
     "data": {
      "text/plain": [
       "t    55954\n",
       "f      754\n",
       "Name: host_has_profile_pic, dtype: int64"
      ]
     },
     "execution_count": 49,
     "metadata": {},
     "output_type": "execute_result"
    }
   ],
   "source": [
    "# qui a une jolie photo ?\n",
    "host_has_profile_pic = host[\"host_has_profile_pic\"].value_counts()\n",
    "host_has_profile_pic"
   ]
  },
  {
   "cell_type": "code",
   "execution_count": 50,
   "metadata": {},
   "outputs": [
    {
     "data": {
      "text/plain": [
       "t    0.986391\n",
       "f    0.013292\n",
       "Name: host_has_profile_pic, dtype: float64"
      ]
     },
     "execution_count": 50,
     "metadata": {},
     "output_type": "execute_result"
    }
   ],
   "source": [
    "# pourcentage qui a une jolie photo \n",
    "host_has_profile_pic/len(host)"
   ]
  },
  {
   "cell_type": "code",
   "execution_count": 51,
   "metadata": {},
   "outputs": [
    {
     "data": {
      "text/plain": [
       "t    48377\n",
       "f     8331\n",
       "Name: host_identity_verified, dtype: int64"
      ]
     },
     "execution_count": 51,
     "metadata": {},
     "output_type": "execute_result"
    }
   ],
   "source": [
    "# host_identity_verified\n",
    "host_identity_verified = host[\"host_identity_verified\"].value_counts()\n",
    "host_identity_verified"
   ]
  },
  {
   "cell_type": "code",
   "execution_count": 52,
   "metadata": {},
   "outputs": [],
   "source": [
    "# télécharger un dataset dans le format xcel\n",
    "paris_l_clean.to_excel(\"paris_l_clean.xlsx\")"
   ]
  },
  {
   "cell_type": "code",
   "execution_count": 35,
   "metadata": {},
   "outputs": [
    {
     "data": {
      "text/plain": [
       "review_scores_rating\n",
       "5.00    1498\n",
       "4.88     314\n",
       "4.93     310\n",
       "4.89     297\n",
       "4.94     283\n",
       "        ... \n",
       "4.34       1\n",
       "4.36       1\n",
       "4.41       1\n",
       "4.46       1\n",
       "0.00       1\n",
       "Name: host_is_superhost, Length: 93, dtype: int64"
      ]
     },
     "execution_count": 35,
     "metadata": {},
     "output_type": "execute_result"
    }
   ],
   "source": [
    "# compter les notes des superhosts \n",
    "super_host_score = paris_l_clean[paris_l_clean[\"host_is_superhost\"]==\"t\"].groupby(\"review_scores_rating\")[\"host_is_superhost\"].count().sort_values(ascending=False)\n",
    "super_host_score"
   ]
  },
  {
   "attachments": {},
   "cell_type": "markdown",
   "metadata": {},
   "source": [
    "### 1. Super hosts vs. non super hosts "
   ]
  },
  {
   "cell_type": "code",
   "execution_count": 36,
   "metadata": {},
   "outputs": [
    {
     "data": {
      "text/plain": [
       "review_scores_rating\n",
       "5.0    1498\n",
       "Name: host_is_superhost, dtype: int64"
      ]
     },
     "execution_count": 36,
     "metadata": {},
     "output_type": "execute_result"
    }
   ],
   "source": [
    "# super host qui a un score de 5/5\n",
    "super_host_score_5 = paris_l_clean.loc[(paris_l_clean[\"review_scores_rating\"] == 5) & (paris_l_clean[\"host_is_superhost\"] == \"t\")].groupby(\"review_scores_rating\")[\"host_is_superhost\"].count()\n",
    "super_host_score_5"
   ]
  },
  {
   "cell_type": "code",
   "execution_count": 37,
   "metadata": {},
   "outputs": [
    {
     "data": {
      "text/plain": [
       "1498"
      ]
     },
     "execution_count": 37,
     "metadata": {},
     "output_type": "execute_result"
    }
   ],
   "source": [
    "# prendre que le resultat \n",
    "count_rating_5 = super_host_score_5[5.0]\n",
    "count_rating_5"
   ]
  },
  {
   "cell_type": "code",
   "execution_count": 38,
   "metadata": {},
   "outputs": [
    {
     "data": {
      "text/plain": [
       "17.80154486036839"
      ]
     },
     "execution_count": 38,
     "metadata": {},
     "output_type": "execute_result"
    }
   ],
   "source": [
    "# comparer avec le total de superhost \n",
    "count_rating_5 / super_host.loc[\"t\"] *100"
   ]
  },
  {
   "cell_type": "code",
   "execution_count": 17,
   "metadata": {},
   "outputs": [
    {
     "data": {
      "text/plain": [
       "review_scores_rating\n",
       "5.0    9897\n",
       "Name: host_is_superhost, dtype: int64"
      ]
     },
     "execution_count": 17,
     "metadata": {},
     "output_type": "execute_result"
    }
   ],
   "source": [
    "# note asolue pour les hosts normaux \n",
    "host_score_5 = paris_l_clean.loc[(paris_l_clean[\"review_scores_rating\"] == 5) & (paris_l_clean[\"host_is_superhost\"] == \"f\")].groupby(\"review_scores_rating\")[\"host_is_superhost\"].count()\n",
    "# host_count_rating_5 = host_score_5[5.0]\n",
    "host_score_5"
   ]
  },
  {
   "cell_type": "code",
   "execution_count": 15,
   "metadata": {},
   "outputs": [
    {
     "data": {
      "text/plain": [
       "20.50299351577552"
      ]
     },
     "execution_count": 15,
     "metadata": {},
     "output_type": "execute_result"
    }
   ],
   "source": [
    "host_count_rating_5 / super_host.loc[\"f\"] *100"
   ]
  },
  {
   "attachments": {},
   "cell_type": "markdown",
   "metadata": {},
   "source": [
    "## 2. Engagement des hosts "
   ]
  },
  {
   "cell_type": "code",
   "execution_count": 114,
   "metadata": {},
   "outputs": [
    {
     "name": "stderr",
     "output_type": "stream",
     "text": [
      "C:\\Users\\Asus\\AppData\\Local\\Temp\\ipykernel_7624\\1539516090.py:2: SettingWithCopyWarning: \n",
      "A value is trying to be set on a copy of a slice from a DataFrame.\n",
      "Try using .loc[row_indexer,col_indexer] = value instead\n",
      "\n",
      "See the caveats in the documentation: https://pandas.pydata.org/pandas-docs/stable/user_guide/indexing.html#returning-a-view-versus-a-copy\n",
      "  host['host_since'] = pd.to_datetime(host['host_since'])\n"
     ]
    }
   ],
   "source": [
    "# changer le format de la colonne \"host_since\" du \"object\" au \"datetime\" pour analyser \n",
    "host['host_since'] = pd.to_datetime(host['host_since'])"
   ]
  },
  {
   "cell_type": "code",
   "execution_count": 115,
   "metadata": {},
   "outputs": [
    {
     "name": "stderr",
     "output_type": "stream",
     "text": [
      "C:\\Users\\Asus\\AppData\\Local\\Temp\\ipykernel_7624\\1917659172.py:1: SettingWithCopyWarning: \n",
      "A value is trying to be set on a copy of a slice from a DataFrame.\n",
      "Try using .loc[row_indexer,col_indexer] = value instead\n",
      "\n",
      "See the caveats in the documentation: https://pandas.pydata.org/pandas-docs/stable/user_guide/indexing.html#returning-a-view-versus-a-copy\n",
      "  host['host_since_date'] = pd.to_datetime(host['host_since'])\n"
     ]
    }
   ],
   "source": [
    "host['host_since_date'] = pd.to_datetime(host['host_since'])"
   ]
  },
  {
   "cell_type": "code",
   "execution_count": 116,
   "metadata": {},
   "outputs": [
    {
     "data": {
      "text/plain": [
       "Index(['id', 'host_id', 'host_name', 'host_since', 'host_response_time',\n",
       "       'host_response_rate', 'host_acceptance_rate', 'host_is_superhost',\n",
       "       'host_neighbourhood', 'host_listings_count',\n",
       "       'host_total_listings_count', 'host_has_profile_pic',\n",
       "       'host_identity_verified', 'host_since_date'],\n",
       "      dtype='object')"
      ]
     },
     "execution_count": 116,
     "metadata": {},
     "output_type": "execute_result"
    }
   ],
   "source": [
    "host.columns"
   ]
  },
  {
   "cell_type": "code",
   "execution_count": 117,
   "metadata": {},
   "outputs": [
    {
     "data": {
      "text/plain": [
       "host_since_date\n",
       "2008.0        3\n",
       "2009.0      102\n",
       "2010.0      345\n",
       "2011.0     1054\n",
       "2012.0     3258\n",
       "2013.0     6369\n",
       "2014.0     8388\n",
       "2015.0    10018\n",
       "2016.0     7067\n",
       "2017.0     3652\n",
       "2018.0     3217\n",
       "2019.0     3939\n",
       "2020.0     2098\n",
       "2021.0     2270\n",
       "2022.0     4256\n",
       "2023.0      672\n",
       "dtype: int64"
      ]
     },
     "execution_count": 117,
     "metadata": {},
     "output_type": "execute_result"
    }
   ],
   "source": [
    "# compter le nombre des hosts par année \n",
    "hosts_by_year = host.groupby(host['host_since_date'].dt.year).size()\n",
    "hosts_by_year\n",
    "\n"
   ]
  },
  {
   "cell_type": "code",
   "execution_count": 106,
   "metadata": {},
   "outputs": [
    {
     "name": "stdout",
     "output_type": "stream",
     "text": [
      "(16,)\n",
      "(16, 13)\n"
     ]
    }
   ],
   "source": [
    "print(hosts_by_year.index.shape)\n",
    "print(hosts_by_year.values.shape)"
   ]
  },
  {
   "cell_type": "code",
   "execution_count": null,
   "metadata": {},
   "outputs": [],
   "source": [
    "# je n'arrive pas à former un dataframe à partir du resultat du \"hosts_by_year\""
   ]
  },
  {
   "cell_type": "code",
   "execution_count": 15,
   "metadata": {},
   "outputs": [
    {
     "data": {
      "image/png": "[encoded data removed]",
      "text/plain": [
       "<Figure size 640x480 with 1 Axes>"
      ]
     },
     "metadata": {},
     "output_type": "display_data"
    }
   ],
   "source": [
    "# graphique : nombre de hosts par année \n",
    "# question à retenir : pourquoi il y a beaucoup de hosts entrés dans l'année 2015 ? \n",
    "\n",
    "import matplotlib.pyplot as plt\n",
    "\n",
    "hosts_by_year = host.groupby(host['host_since_date'].dt.year).size()\n",
    "df_host_by_year = pd.DataFrame({'Year': hosts_by_year.index, 'Number of Hosts': hosts_by_year.values})\n",
    "plt.bar(df_host_by_year['Year'], df_host_by_year['Number of Hosts'])\n",
    "plt.xlabel('Year')\n",
    "plt.ylabel('Number of Hosts')\n",
    "plt.title('Number of Hosts Joined Each Year')\n",
    "plt.show()"
   ]
  },
  {
   "cell_type": "code",
   "execution_count": 74,
   "metadata": {},
   "outputs": [
    {
     "data": {
      "text/html": [
       "<div>\n",
       "<style scoped>\n",
       "    .dataframe tbody tr th:only-of-type {\n",
       "        vertical-align: middle;\n",
       "    }\n",
       "\n",
       "    .dataframe tbody tr th {\n",
       "        vertical-align: top;\n",
       "    }\n",
       "\n",
       "    .dataframe thead th {\n",
       "        text-align: right;\n",
       "    }\n",
       "</style>\n",
       "<table border=\"1\" class=\"dataframe\">\n",
       "  <thead>\n",
       "    <tr style=\"text-align: right;\">\n",
       "      <th></th>\n",
       "      <th>0</th>\n",
       "    </tr>\n",
       "    <tr>\n",
       "      <th>host_since_date</th>\n",
       "      <th></th>\n",
       "    </tr>\n",
       "  </thead>\n",
       "  <tbody>\n",
       "    <tr>\n",
       "      <th>2008.0</th>\n",
       "      <td>2</td>\n",
       "    </tr>\n",
       "    <tr>\n",
       "      <th>2009.0</th>\n",
       "      <td>58</td>\n",
       "    </tr>\n",
       "    <tr>\n",
       "      <th>2010.0</th>\n",
       "      <td>80</td>\n",
       "    </tr>\n",
       "    <tr>\n",
       "      <th>2011.0</th>\n",
       "      <td>252</td>\n",
       "    </tr>\n",
       "    <tr>\n",
       "      <th>2012.0</th>\n",
       "      <td>697</td>\n",
       "    </tr>\n",
       "    <tr>\n",
       "      <th>2013.0</th>\n",
       "      <td>1106</td>\n",
       "    </tr>\n",
       "    <tr>\n",
       "      <th>2014.0</th>\n",
       "      <td>1350</td>\n",
       "    </tr>\n",
       "    <tr>\n",
       "      <th>2015.0</th>\n",
       "      <td>1219</td>\n",
       "    </tr>\n",
       "    <tr>\n",
       "      <th>2016.0</th>\n",
       "      <td>1053</td>\n",
       "    </tr>\n",
       "    <tr>\n",
       "      <th>2017.0</th>\n",
       "      <td>482</td>\n",
       "    </tr>\n",
       "    <tr>\n",
       "      <th>2018.0</th>\n",
       "      <td>541</td>\n",
       "    </tr>\n",
       "    <tr>\n",
       "      <th>2019.0</th>\n",
       "      <td>630</td>\n",
       "    </tr>\n",
       "    <tr>\n",
       "      <th>2020.0</th>\n",
       "      <td>221</td>\n",
       "    </tr>\n",
       "    <tr>\n",
       "      <th>2021.0</th>\n",
       "      <td>284</td>\n",
       "    </tr>\n",
       "    <tr>\n",
       "      <th>2022.0</th>\n",
       "      <td>440</td>\n",
       "    </tr>\n",
       "  </tbody>\n",
       "</table>\n",
       "</div>"
      ],
      "text/plain": [
       "                    0\n",
       "host_since_date      \n",
       "2008.0              2\n",
       "2009.0             58\n",
       "2010.0             80\n",
       "2011.0            252\n",
       "2012.0            697\n",
       "2013.0           1106\n",
       "2014.0           1350\n",
       "2015.0           1219\n",
       "2016.0           1053\n",
       "2017.0            482\n",
       "2018.0            541\n",
       "2019.0            630\n",
       "2020.0            221\n",
       "2021.0            284\n",
       "2022.0            440"
      ]
     },
     "execution_count": 74,
     "metadata": {},
     "output_type": "execute_result"
    }
   ],
   "source": [
    "superhost_by_year = host[host['host_is_superhost'] == 't'].groupby(host['host_since_date'].dt.year).size()\n",
    "superhost_by_year = superhost_by_year.to_frame()\n",
    "superhost_by_year"
   ]
  },
  {
   "cell_type": "code",
   "execution_count": 68,
   "metadata": {},
   "outputs": [
    {
     "data": {
      "text/html": [
       "<div>\n",
       "<style scoped>\n",
       "    .dataframe tbody tr th:only-of-type {\n",
       "        vertical-align: middle;\n",
       "    }\n",
       "\n",
       "    .dataframe tbody tr th {\n",
       "        vertical-align: top;\n",
       "    }\n",
       "\n",
       "    .dataframe thead th {\n",
       "        text-align: right;\n",
       "    }\n",
       "</style>\n",
       "<table border=\"1\" class=\"dataframe\">\n",
       "  <thead>\n",
       "    <tr style=\"text-align: right;\">\n",
       "      <th></th>\n",
       "      <th>index</th>\n",
       "      <th>host</th>\n",
       "      <th>super_host</th>\n",
       "    </tr>\n",
       "  </thead>\n",
       "  <tbody>\n",
       "    <tr>\n",
       "      <th>0</th>\n",
       "      <td>2008.0</td>\n",
       "      <td>3</td>\n",
       "      <td>2</td>\n",
       "    </tr>\n",
       "    <tr>\n",
       "      <th>1</th>\n",
       "      <td>2009.0</td>\n",
       "      <td>102</td>\n",
       "      <td>58</td>\n",
       "    </tr>\n",
       "    <tr>\n",
       "      <th>2</th>\n",
       "      <td>2010.0</td>\n",
       "      <td>345</td>\n",
       "      <td>80</td>\n",
       "    </tr>\n",
       "    <tr>\n",
       "      <th>3</th>\n",
       "      <td>2011.0</td>\n",
       "      <td>1054</td>\n",
       "      <td>252</td>\n",
       "    </tr>\n",
       "    <tr>\n",
       "      <th>4</th>\n",
       "      <td>2012.0</td>\n",
       "      <td>3258</td>\n",
       "      <td>697</td>\n",
       "    </tr>\n",
       "    <tr>\n",
       "      <th>5</th>\n",
       "      <td>2013.0</td>\n",
       "      <td>6369</td>\n",
       "      <td>1106</td>\n",
       "    </tr>\n",
       "    <tr>\n",
       "      <th>6</th>\n",
       "      <td>2014.0</td>\n",
       "      <td>8388</td>\n",
       "      <td>1350</td>\n",
       "    </tr>\n",
       "    <tr>\n",
       "      <th>7</th>\n",
       "      <td>2015.0</td>\n",
       "      <td>10018</td>\n",
       "      <td>1219</td>\n",
       "    </tr>\n",
       "    <tr>\n",
       "      <th>8</th>\n",
       "      <td>2016.0</td>\n",
       "      <td>7067</td>\n",
       "      <td>1053</td>\n",
       "    </tr>\n",
       "    <tr>\n",
       "      <th>9</th>\n",
       "      <td>2017.0</td>\n",
       "      <td>3652</td>\n",
       "      <td>482</td>\n",
       "    </tr>\n",
       "    <tr>\n",
       "      <th>10</th>\n",
       "      <td>2018.0</td>\n",
       "      <td>3217</td>\n",
       "      <td>541</td>\n",
       "    </tr>\n",
       "    <tr>\n",
       "      <th>11</th>\n",
       "      <td>2019.0</td>\n",
       "      <td>3939</td>\n",
       "      <td>630</td>\n",
       "    </tr>\n",
       "    <tr>\n",
       "      <th>12</th>\n",
       "      <td>2020.0</td>\n",
       "      <td>2098</td>\n",
       "      <td>221</td>\n",
       "    </tr>\n",
       "    <tr>\n",
       "      <th>13</th>\n",
       "      <td>2021.0</td>\n",
       "      <td>2270</td>\n",
       "      <td>284</td>\n",
       "    </tr>\n",
       "    <tr>\n",
       "      <th>14</th>\n",
       "      <td>2022.0</td>\n",
       "      <td>4256</td>\n",
       "      <td>440</td>\n",
       "    </tr>\n",
       "  </tbody>\n",
       "</table>\n",
       "</div>"
      ],
      "text/plain": [
       "     index   host  super_host\n",
       "0   2008.0      3           2\n",
       "1   2009.0    102          58\n",
       "2   2010.0    345          80\n",
       "3   2011.0   1054         252\n",
       "4   2012.0   3258         697\n",
       "5   2013.0   6369        1106\n",
       "6   2014.0   8388        1350\n",
       "7   2015.0  10018        1219\n",
       "8   2016.0   7067        1053\n",
       "9   2017.0   3652         482\n",
       "10  2018.0   3217         541\n",
       "11  2019.0   3939         630\n",
       "12  2020.0   2098         221\n",
       "13  2021.0   2270         284\n",
       "14  2022.0   4256         440"
      ]
     },
     "execution_count": 68,
     "metadata": {},
     "output_type": "execute_result"
    }
   ],
   "source": [
    "# créer un dataframe avec les colonnes \n",
    "host_years = hosts_by_year.merge(superhost_by_year, how= \"inner\", left_index=True, right_index=True)\n",
    "host_years.rename(columns={\"0_x\": \"host\", \"0_y\": \"super_host\"}, inplace=True)\n",
    "host_years.reset_index()"
   ]
  },
  {
   "cell_type": "code",
   "execution_count": 69,
   "metadata": {},
   "outputs": [
    {
     "data": {
      "image/png": "[encoded data removed]",
      "text/plain": [
       "<Figure size 640x480 with 1 Axes>"
      ]
     },
     "metadata": {},
     "output_type": "display_data"
    }
   ],
   "source": [
    "# create the bar chart\n",
    "ax = host_years.plot(kind='bar', width=0.8)\n",
    "\n",
    "# set the plot title and axis labels\n",
    "ax.set_title('Hosts by Year')\n",
    "ax.set_xlabel('index')\n",
    "ax.set_ylabel('Number of Hosts')\n",
    "\n",
    "# show the plot\n",
    "plt.show()"
   ]
  },
  {
   "attachments": {},
   "cell_type": "markdown",
   "metadata": {},
   "source": [
    "##### Conclusion : \n",
    "Forte agumentation au niveau de nombre de nouveaux host dans l'année 2015.\n",
    "\n",
    "Tendance de diminuation depuis l'année 2017. \n",
    "\n",
    "2020 : nombre de nouveaux hosts le plus bas depuis 2011. à cause de COVID ?\n",
    "\n",
    "Depuis 2022 : uptrend tendance. à calculer % de changement par rapport à 2019. \n"
   ]
  },
  {
   "attachments": {},
   "cell_type": "markdown",
   "metadata": {},
   "source": [
    "## 3. Superhost property/room type "
   ]
  },
  {
   "cell_type": "code",
   "execution_count": 91,
   "metadata": {},
   "outputs": [],
   "source": [
    "# créer un dataframe que pour les superhosts avec deux colonnes property_type et room_type\n",
    "superhost_modes = paris_l_clean[paris_l_clean['host_is_superhost'] == 't'][['property_type', 'room_type']]\n",
    "host_modes = paris_l_clean[['property_type', 'room_type']]"
   ]
  },
  {
   "cell_type": "code",
   "execution_count": 98,
   "metadata": {},
   "outputs": [
    {
     "data": {
      "text/html": [
       "<div>\n",
       "<style scoped>\n",
       "    .dataframe tbody tr th:only-of-type {\n",
       "        vertical-align: middle;\n",
       "    }\n",
       "\n",
       "    .dataframe tbody tr th {\n",
       "        vertical-align: top;\n",
       "    }\n",
       "\n",
       "    .dataframe thead th {\n",
       "        text-align: right;\n",
       "    }\n",
       "</style>\n",
       "<table border=\"1\" class=\"dataframe\">\n",
       "  <thead>\n",
       "    <tr style=\"text-align: right;\">\n",
       "      <th></th>\n",
       "      <th>nb_room</th>\n",
       "    </tr>\n",
       "  </thead>\n",
       "  <tbody>\n",
       "    <tr>\n",
       "      <th>Entire home/apt</th>\n",
       "      <td>7017</td>\n",
       "    </tr>\n",
       "    <tr>\n",
       "      <th>Private room</th>\n",
       "      <td>1200</td>\n",
       "    </tr>\n",
       "    <tr>\n",
       "      <th>Hotel room</th>\n",
       "      <td>179</td>\n",
       "    </tr>\n",
       "    <tr>\n",
       "      <th>Shared room</th>\n",
       "      <td>19</td>\n",
       "    </tr>\n",
       "  </tbody>\n",
       "</table>\n",
       "</div>"
      ],
      "text/plain": [
       "                 nb_room\n",
       "Entire home/apt     7017\n",
       "Private room        1200\n",
       "Hotel room           179\n",
       "Shared room           19"
      ]
     },
     "execution_count": 98,
     "metadata": {},
     "output_type": "execute_result"
    }
   ],
   "source": [
    "room_type_superhost = superhost_modes['room_type'].value_counts()\n",
    "room_type_superhost = room_type_superhost.to_frame()\n",
    "room_type_superhost.rename(columns={\"index\":\"room\", \"room_type\": \"nb_room\"})"
   ]
  },
  {
   "cell_type": "code",
   "execution_count": 97,
   "metadata": {},
   "outputs": [
    {
     "data": {
      "text/html": [
       "<div>\n",
       "<style scoped>\n",
       "    .dataframe tbody tr th:only-of-type {\n",
       "        vertical-align: middle;\n",
       "    }\n",
       "\n",
       "    .dataframe tbody tr th {\n",
       "        vertical-align: top;\n",
       "    }\n",
       "\n",
       "    .dataframe thead th {\n",
       "        text-align: right;\n",
       "    }\n",
       "</style>\n",
       "<table border=\"1\" class=\"dataframe\">\n",
       "  <thead>\n",
       "    <tr style=\"text-align: right;\">\n",
       "      <th></th>\n",
       "      <th>nb_room</th>\n",
       "    </tr>\n",
       "  </thead>\n",
       "  <tbody>\n",
       "    <tr>\n",
       "      <th>Entire home/apt</th>\n",
       "      <td>48350</td>\n",
       "    </tr>\n",
       "    <tr>\n",
       "      <th>Private room</th>\n",
       "      <td>7172</td>\n",
       "    </tr>\n",
       "    <tr>\n",
       "      <th>Hotel room</th>\n",
       "      <td>915</td>\n",
       "    </tr>\n",
       "    <tr>\n",
       "      <th>Shared room</th>\n",
       "      <td>289</td>\n",
       "    </tr>\n",
       "  </tbody>\n",
       "</table>\n",
       "</div>"
      ],
      "text/plain": [
       "                 nb_room\n",
       "Entire home/apt    48350\n",
       "Private room        7172\n",
       "Hotel room           915\n",
       "Shared room          289"
      ]
     },
     "execution_count": 97,
     "metadata": {},
     "output_type": "execute_result"
    }
   ],
   "source": [
    "room_type_total = host_modes[\"room_type\"].value_counts()\n",
    "room_type_total = room_type_total.to_frame()\n",
    "room_type_total.rename(columns={\"index\":\"room\", \"room_type\": \"nb_room\"})"
   ]
  },
  {
   "cell_type": "code",
   "execution_count": 151,
   "metadata": {},
   "outputs": [
    {
     "data": {
      "text/html": [
       "<div>\n",
       "<style scoped>\n",
       "    .dataframe tbody tr th:only-of-type {\n",
       "        vertical-align: middle;\n",
       "    }\n",
       "\n",
       "    .dataframe tbody tr th {\n",
       "        vertical-align: top;\n",
       "    }\n",
       "\n",
       "    .dataframe thead th {\n",
       "        text-align: right;\n",
       "    }\n",
       "</style>\n",
       "<table border=\"1\" class=\"dataframe\">\n",
       "  <thead>\n",
       "    <tr style=\"text-align: right;\">\n",
       "      <th></th>\n",
       "      <th>of_superhost</th>\n",
       "      <th>of_all_host</th>\n",
       "      <th>percent</th>\n",
       "    </tr>\n",
       "  </thead>\n",
       "  <tbody>\n",
       "    <tr>\n",
       "      <th>Entire home/apt</th>\n",
       "      <td>7017</td>\n",
       "      <td>48350</td>\n",
       "      <td>15.0</td>\n",
       "    </tr>\n",
       "    <tr>\n",
       "      <th>Private room</th>\n",
       "      <td>1200</td>\n",
       "      <td>7172</td>\n",
       "      <td>17.0</td>\n",
       "    </tr>\n",
       "    <tr>\n",
       "      <th>Hotel room</th>\n",
       "      <td>179</td>\n",
       "      <td>915</td>\n",
       "      <td>20.0</td>\n",
       "    </tr>\n",
       "    <tr>\n",
       "      <th>Shared room</th>\n",
       "      <td>19</td>\n",
       "      <td>289</td>\n",
       "      <td>7.0</td>\n",
       "    </tr>\n",
       "  </tbody>\n",
       "</table>\n",
       "</div>"
      ],
      "text/plain": [
       "                 of_superhost  of_all_host  percent\n",
       "Entire home/apt          7017        48350     15.0\n",
       "Private room             1200         7172     17.0\n",
       "Hotel room                179          915     20.0\n",
       "Shared room                19          289      7.0"
      ]
     },
     "execution_count": 151,
     "metadata": {},
     "output_type": "execute_result"
    }
   ],
   "source": [
    "room_type_join = room_type_superhost.merge(room_type_total, how= \"inner\", left_index=True, right_index=True)\n",
    "room_type_join = room_type_join.rename(columns={\"room_type_x\": \"of_superhost\", \"room_type_y\": \"of_all_host\"})\n",
    "room_type_join.reset_index()\n",
    "room_type_join['percent'] = round(room_type_join['of_superhost'] / room_type_join['of_all_host'] * 100)\n",
    "room_type_join"
   ]
  },
  {
   "attachments": {},
   "cell_type": "markdown",
   "metadata": {},
   "source": [
    "#### à consider : \n",
    "Pourcentage parmi les superhosts eux-même \n",
    "\n",
    "Count distinct ?\n",
    "\n",
    "Faut être clair : annonces ou hosts ?"
   ]
  },
  {
   "attachments": {},
   "cell_type": "markdown",
   "metadata": {},
   "source": [
    "#### Conclusion : \n",
    "Très peu de superhosts font les shared room (environ 7% de shared rooms seulement)\n",
    "\n",
    "Le taux de superhosts qui sont les professionnels sont assez élévé (20% de toutes les chambres de hotels sur AirBnB sont des superhosts) on rend un bon service ?"
   ]
  },
  {
   "attachments": {},
   "cell_type": "markdown",
   "metadata": {},
   "source": []
  },
  {
   "attachments": {},
   "cell_type": "markdown",
   "metadata": {},
   "source": [
    "# 4. Engagement des superhosts en faisant plaisir les clients \n",
    "\n",
    "Par rapport au: host_response_time, host_response_rate, host_acceptance_rate\n"
   ]
  },
  {
   "cell_type": "code",
   "execution_count": 91,
   "metadata": {},
   "outputs": [
    {
     "data": {
      "text/html": [
       "<div>\n",
       "<style scoped>\n",
       "    .dataframe tbody tr th:only-of-type {\n",
       "        vertical-align: middle;\n",
       "    }\n",
       "\n",
       "    .dataframe tbody tr th {\n",
       "        vertical-align: top;\n",
       "    }\n",
       "\n",
       "    .dataframe thead th {\n",
       "        text-align: right;\n",
       "    }\n",
       "</style>\n",
       "<table border=\"1\" class=\"dataframe\">\n",
       "  <thead>\n",
       "    <tr style=\"text-align: right;\">\n",
       "      <th></th>\n",
       "      <th>host_is_superhost</th>\n",
       "      <th>host_response_time</th>\n",
       "      <th>host_response_rate</th>\n",
       "      <th>host_acceptance_rate</th>\n",
       "    </tr>\n",
       "  </thead>\n",
       "  <tbody>\n",
       "    <tr>\n",
       "      <th>0</th>\n",
       "      <td>f</td>\n",
       "      <td>within an hour</td>\n",
       "      <td>100%</td>\n",
       "      <td>99%</td>\n",
       "    </tr>\n",
       "    <tr>\n",
       "      <th>1</th>\n",
       "      <td>t</td>\n",
       "      <td>within an hour</td>\n",
       "      <td>100%</td>\n",
       "      <td>67%</td>\n",
       "    </tr>\n",
       "    <tr>\n",
       "      <th>2</th>\n",
       "      <td>f</td>\n",
       "      <td>NaN</td>\n",
       "      <td>NaN</td>\n",
       "      <td>NaN</td>\n",
       "    </tr>\n",
       "    <tr>\n",
       "      <th>3</th>\n",
       "      <td>f</td>\n",
       "      <td>NaN</td>\n",
       "      <td>NaN</td>\n",
       "      <td>NaN</td>\n",
       "    </tr>\n",
       "    <tr>\n",
       "      <th>4</th>\n",
       "      <td>t</td>\n",
       "      <td>within an hour</td>\n",
       "      <td>100%</td>\n",
       "      <td>90%</td>\n",
       "    </tr>\n",
       "    <tr>\n",
       "      <th>...</th>\n",
       "      <td>...</td>\n",
       "      <td>...</td>\n",
       "      <td>...</td>\n",
       "      <td>...</td>\n",
       "    </tr>\n",
       "    <tr>\n",
       "      <th>56721</th>\n",
       "      <td>f</td>\n",
       "      <td>within an hour</td>\n",
       "      <td>100%</td>\n",
       "      <td>98%</td>\n",
       "    </tr>\n",
       "    <tr>\n",
       "      <th>56722</th>\n",
       "      <td>f</td>\n",
       "      <td>within an hour</td>\n",
       "      <td>100%</td>\n",
       "      <td>98%</td>\n",
       "    </tr>\n",
       "    <tr>\n",
       "      <th>56723</th>\n",
       "      <td>f</td>\n",
       "      <td>within an hour</td>\n",
       "      <td>97%</td>\n",
       "      <td>78%</td>\n",
       "    </tr>\n",
       "    <tr>\n",
       "      <th>56724</th>\n",
       "      <td>f</td>\n",
       "      <td>within an hour</td>\n",
       "      <td>100%</td>\n",
       "      <td>100%</td>\n",
       "    </tr>\n",
       "    <tr>\n",
       "      <th>56725</th>\n",
       "      <td>f</td>\n",
       "      <td>within an hour</td>\n",
       "      <td>100%</td>\n",
       "      <td>80%</td>\n",
       "    </tr>\n",
       "  </tbody>\n",
       "</table>\n",
       "<p>56726 rows × 4 columns</p>\n",
       "</div>"
      ],
      "text/plain": [
       "      host_is_superhost host_response_time host_response_rate  \\\n",
       "0                     f     within an hour               100%   \n",
       "1                     t     within an hour               100%   \n",
       "2                     f                NaN                NaN   \n",
       "3                     f                NaN                NaN   \n",
       "4                     t     within an hour               100%   \n",
       "...                 ...                ...                ...   \n",
       "56721                 f     within an hour               100%   \n",
       "56722                 f     within an hour               100%   \n",
       "56723                 f     within an hour                97%   \n",
       "56724                 f     within an hour               100%   \n",
       "56725                 f     within an hour               100%   \n",
       "\n",
       "      host_acceptance_rate  \n",
       "0                      99%  \n",
       "1                      67%  \n",
       "2                      NaN  \n",
       "3                      NaN  \n",
       "4                      90%  \n",
       "...                    ...  \n",
       "56721                  98%  \n",
       "56722                  98%  \n",
       "56723                  78%  \n",
       "56724                 100%  \n",
       "56725                  80%  \n",
       "\n",
       "[56726 rows x 4 columns]"
      ]
     },
     "execution_count": 91,
     "metadata": {},
     "output_type": "execute_result"
    }
   ],
   "source": [
    "# nouveau dataframe avec les colonnes nécessaires \n",
    "engagement = paris_l_clean[[\"host_is_superhost\", \"host_response_time\", \"host_response_rate\",\"host_acceptance_rate\"]]\n",
    "engagement"
   ]
  },
  {
   "cell_type": "code",
   "execution_count": 92,
   "metadata": {},
   "outputs": [
    {
     "name": "stdout",
     "output_type": "stream",
     "text": [
      "                   host_response_rate  host_acceptance_rate\n",
      "host_is_superhost                                          \n",
      "f                           44.452818             45.417290\n",
      "t                           91.451456             90.459774\n"
     ]
    },
    {
     "name": "stderr",
     "output_type": "stream",
     "text": [
      "C:\\Users\\Asus\\AppData\\Local\\Temp\\ipykernel_7624\\2523573400.py:7: SettingWithCopyWarning: \n",
      "A value is trying to be set on a copy of a slice from a DataFrame.\n",
      "Try using .loc[row_indexer,col_indexer] = value instead\n",
      "\n",
      "See the caveats in the documentation: https://pandas.pydata.org/pandas-docs/stable/user_guide/indexing.html#returning-a-view-versus-a-copy\n",
      "  df.fillna({'host_response_rate': '0%', 'host_acceptance_rate': '0%'}, inplace=True)\n",
      "C:\\Users\\Asus\\AppData\\Local\\Temp\\ipykernel_7624\\2523573400.py:7: SettingWithCopyWarning: \n",
      "A value is trying to be set on a copy of a slice from a DataFrame.\n",
      "Try using .loc[row_indexer,col_indexer] = value instead\n",
      "\n",
      "See the caveats in the documentation: https://pandas.pydata.org/pandas-docs/stable/user_guide/indexing.html#returning-a-view-versus-a-copy\n",
      "  df.fillna({'host_response_rate': '0%', 'host_acceptance_rate': '0%'}, inplace=True)\n",
      "C:\\Users\\Asus\\AppData\\Local\\Temp\\ipykernel_7624\\2523573400.py:10: SettingWithCopyWarning: \n",
      "A value is trying to be set on a copy of a slice from a DataFrame.\n",
      "Try using .loc[row_indexer,col_indexer] = value instead\n",
      "\n",
      "See the caveats in the documentation: https://pandas.pydata.org/pandas-docs/stable/user_guide/indexing.html#returning-a-view-versus-a-copy\n",
      "  df['host_response_rate'] = df['host_response_rate'].str.replace('%', '').astype(int)\n",
      "C:\\Users\\Asus\\AppData\\Local\\Temp\\ipykernel_7624\\2523573400.py:11: SettingWithCopyWarning: \n",
      "A value is trying to be set on a copy of a slice from a DataFrame.\n",
      "Try using .loc[row_indexer,col_indexer] = value instead\n",
      "\n",
      "See the caveats in the documentation: https://pandas.pydata.org/pandas-docs/stable/user_guide/indexing.html#returning-a-view-versus-a-copy\n",
      "  df['host_acceptance_rate'] = df['host_acceptance_rate'].str.replace('%', '').astype(int)\n",
      "C:\\Users\\Asus\\AppData\\Local\\Temp\\ipykernel_7624\\2523573400.py:14: FutureWarning: Indexing with multiple keys (implicitly converted to a tuple of keys) will be deprecated, use a list instead.\n",
      "  result = df.groupby('host_is_superhost')['host_response_time', 'host_response_rate', 'host_acceptance_rate'].mean()\n"
     ]
    }
   ],
   "source": [
    "# valeurs moyennes des host_response_rate, host_acceptance_rate entre superhosts et hosts normaux \n",
    "\n",
    "df = engagement\n",
    "\n",
    "# replace missing values in the DataFrame \n",
    "df.fillna({'host_response_rate': '0%', 'host_acceptance_rate': '0%'}, inplace=True)\n",
    "\n",
    "# convert percentage values to numeric values\n",
    "df['host_response_rate'] = df['host_response_rate'].str.replace('%', '').astype(int)\n",
    "df['host_acceptance_rate'] = df['host_acceptance_rate'].str.replace('%', '').astype(int)\n",
    "\n",
    "# group the DataFrame by the \"host_is_superhost\" column and calculate the mean of the response time, response rate, and acceptance rate columns for each group\n",
    "result = df.groupby('host_is_superhost')['host_response_time', 'host_response_rate', 'host_acceptance_rate'].mean()\n",
    "\n",
    "print(result)"
   ]
  },
  {
   "cell_type": "code",
   "execution_count": 93,
   "metadata": {},
   "outputs": [
    {
     "data": {
      "text/html": [
       "<div>\n",
       "<style scoped>\n",
       "    .dataframe tbody tr th:only-of-type {\n",
       "        vertical-align: middle;\n",
       "    }\n",
       "\n",
       "    .dataframe tbody tr th {\n",
       "        vertical-align: top;\n",
       "    }\n",
       "\n",
       "    .dataframe thead th {\n",
       "        text-align: right;\n",
       "    }\n",
       "</style>\n",
       "<table border=\"1\" class=\"dataframe\">\n",
       "  <thead>\n",
       "    <tr style=\"text-align: right;\">\n",
       "      <th></th>\n",
       "      <th>host_response_rate</th>\n",
       "      <th>host_acceptance_rate</th>\n",
       "    </tr>\n",
       "    <tr>\n",
       "      <th>host_is_superhost</th>\n",
       "      <th></th>\n",
       "      <th></th>\n",
       "    </tr>\n",
       "  </thead>\n",
       "  <tbody>\n",
       "    <tr>\n",
       "      <th>f</th>\n",
       "      <td>44.452818</td>\n",
       "      <td>45.417290</td>\n",
       "    </tr>\n",
       "    <tr>\n",
       "      <th>t</th>\n",
       "      <td>91.451456</td>\n",
       "      <td>90.459774</td>\n",
       "    </tr>\n",
       "  </tbody>\n",
       "</table>\n",
       "</div>"
      ],
      "text/plain": [
       "                   host_response_rate  host_acceptance_rate\n",
       "host_is_superhost                                          \n",
       "f                           44.452818             45.417290\n",
       "t                           91.451456             90.459774"
      ]
     },
     "execution_count": 93,
     "metadata": {},
     "output_type": "execute_result"
    }
   ],
   "source": [
    "# le même calcule mais tous les NaN sont éffacés.\n",
    "# select only relevant columns and drop rows with missing values\n",
    "df_1 = engagement[['host_is_superhost', 'host_response_rate', 'host_acceptance_rate']].dropna()\n",
    "# group by 'host_is_superhost' and calculate the mean\n",
    "df_1.groupby('host_is_superhost').mean()"
   ]
  },
  {
   "attachments": {},
   "cell_type": "markdown",
   "metadata": {},
   "source": [
    "#### Conclusion\n",
    "Différences remarquables au niveau de activité en répondant aux demmandes et acceptance aux demmandes entre superhosts et host normaux \n",
    "\n",
    "à vérifier si ça veut dire quelque chose. \n",
    "\n",
    "un camembert est necessaire ici. "
   ]
  },
  {
   "cell_type": "code",
   "execution_count": 106,
   "metadata": {},
   "outputs": [
    {
     "name": "stdout",
     "output_type": "stream",
     "text": [
      "host_is_superhost       f     t\n",
      "host_response_time             \n",
      "a few days or more    900    20\n",
      "within a day         4013   801\n",
      "within a few hours   4539  1826\n",
      "within an hour      13869  5175\n"
     ]
    }
   ],
   "source": [
    "# overview de la proactivité des hosts\n",
    "groups = df.groupby([\"host_response_time\", \"host_is_superhost\"])\n",
    "\n",
    "# Count the number of rows in each group (this one is cool as f)\n",
    "counts = groups.size().unstack()\n",
    "\n",
    "# Replace missing values with 0\n",
    "counts = counts.fillna(0)\n",
    "\n",
    "# Print the resulting table\n",
    "print(counts)"
   ]
  },
  {
   "cell_type": "code",
   "execution_count": 107,
   "metadata": {},
   "outputs": [
    {
     "data": {
      "text/html": [
       "<div>\n",
       "<style scoped>\n",
       "    .dataframe tbody tr th:only-of-type {\n",
       "        vertical-align: middle;\n",
       "    }\n",
       "\n",
       "    .dataframe tbody tr th {\n",
       "        vertical-align: top;\n",
       "    }\n",
       "\n",
       "    .dataframe thead th {\n",
       "        text-align: right;\n",
       "    }\n",
       "</style>\n",
       "<table border=\"1\" class=\"dataframe\">\n",
       "  <thead>\n",
       "    <tr style=\"text-align: right;\">\n",
       "      <th>host_is_superhost</th>\n",
       "      <th>f</th>\n",
       "      <th>t</th>\n",
       "    </tr>\n",
       "    <tr>\n",
       "      <th>host_response_time</th>\n",
       "      <th></th>\n",
       "      <th></th>\n",
       "    </tr>\n",
       "  </thead>\n",
       "  <tbody>\n",
       "    <tr>\n",
       "      <th>a few days or more</th>\n",
       "      <td>900</td>\n",
       "      <td>20</td>\n",
       "    </tr>\n",
       "    <tr>\n",
       "      <th>within a day</th>\n",
       "      <td>4013</td>\n",
       "      <td>801</td>\n",
       "    </tr>\n",
       "    <tr>\n",
       "      <th>within a few hours</th>\n",
       "      <td>4539</td>\n",
       "      <td>1826</td>\n",
       "    </tr>\n",
       "    <tr>\n",
       "      <th>within an hour</th>\n",
       "      <td>13869</td>\n",
       "      <td>5175</td>\n",
       "    </tr>\n",
       "  </tbody>\n",
       "</table>\n",
       "</div>"
      ],
      "text/plain": [
       "host_is_superhost       f     t\n",
       "host_response_time             \n",
       "a few days or more    900    20\n",
       "within a day         4013   801\n",
       "within a few hours   4539  1826\n",
       "within an hour      13869  5175"
      ]
     },
     "execution_count": 107,
     "metadata": {},
     "output_type": "execute_result"
    }
   ],
   "source": [
    "df_response = pd.DataFrame(counts)\n",
    "df_response"
   ]
  },
  {
   "cell_type": "code",
   "execution_count": 118,
   "metadata": {},
   "outputs": [
    {
     "name": "stdout",
     "output_type": "stream",
     "text": [
      "host_is_superhost           f          t\n",
      "host_response_time                      \n",
      "a few days or more   3.859183   0.255689\n",
      "within a day        17.207667  10.240348\n",
      "within a few hours  19.463145  23.344413\n",
      "within an hour      59.470006  66.159550\n"
     ]
    }
   ],
   "source": [
    "# Calculate the percentage of each data point over the total of its column\n",
    "df_response = df_response.apply(lambda x: x / x.sum(), axis=0) * 100\n",
    "\n",
    "# Print the resulting dataframe\n",
    "print(df_response)"
   ]
  },
  {
   "cell_type": "code",
   "execution_count": 119,
   "metadata": {},
   "outputs": [],
   "source": [
    "df_response = pd.DataFrame(df_response)"
   ]
  },
  {
   "cell_type": "code",
   "execution_count": 120,
   "metadata": {},
   "outputs": [
    {
     "data": {
      "text/html": [
       "<div>\n",
       "<style scoped>\n",
       "    .dataframe tbody tr th:only-of-type {\n",
       "        vertical-align: middle;\n",
       "    }\n",
       "\n",
       "    .dataframe tbody tr th {\n",
       "        vertical-align: top;\n",
       "    }\n",
       "\n",
       "    .dataframe thead th {\n",
       "        text-align: right;\n",
       "    }\n",
       "</style>\n",
       "<table border=\"1\" class=\"dataframe\">\n",
       "  <thead>\n",
       "    <tr style=\"text-align: right;\">\n",
       "      <th>host_is_superhost</th>\n",
       "      <th>f</th>\n",
       "      <th>t</th>\n",
       "    </tr>\n",
       "    <tr>\n",
       "      <th>host_response_time</th>\n",
       "      <th></th>\n",
       "      <th></th>\n",
       "    </tr>\n",
       "  </thead>\n",
       "  <tbody>\n",
       "    <tr>\n",
       "      <th>a few days or more</th>\n",
       "      <td>3.859183</td>\n",
       "      <td>0.255689</td>\n",
       "    </tr>\n",
       "    <tr>\n",
       "      <th>within a day</th>\n",
       "      <td>17.207667</td>\n",
       "      <td>10.240348</td>\n",
       "    </tr>\n",
       "    <tr>\n",
       "      <th>within a few hours</th>\n",
       "      <td>19.463145</td>\n",
       "      <td>23.344413</td>\n",
       "    </tr>\n",
       "    <tr>\n",
       "      <th>within an hour</th>\n",
       "      <td>59.470006</td>\n",
       "      <td>66.159550</td>\n",
       "    </tr>\n",
       "  </tbody>\n",
       "</table>\n",
       "</div>"
      ],
      "text/plain": [
       "host_is_superhost           f          t\n",
       "host_response_time                      \n",
       "a few days or more   3.859183   0.255689\n",
       "within a day        17.207667  10.240348\n",
       "within a few hours  19.463145  23.344413\n",
       "within an hour      59.470006  66.159550"
      ]
     },
     "execution_count": 120,
     "metadata": {},
     "output_type": "execute_result"
    }
   ],
   "source": [
    "df_response"
   ]
  },
  {
   "cell_type": "code",
   "execution_count": 110,
   "metadata": {},
   "outputs": [
    {
     "data": {
      "text/html": [
       "<div>\n",
       "<style scoped>\n",
       "    .dataframe tbody tr th:only-of-type {\n",
       "        vertical-align: middle;\n",
       "    }\n",
       "\n",
       "    .dataframe tbody tr th {\n",
       "        vertical-align: top;\n",
       "    }\n",
       "\n",
       "    .dataframe thead th {\n",
       "        text-align: right;\n",
       "    }\n",
       "</style>\n",
       "<table border=\"1\" class=\"dataframe\">\n",
       "  <thead>\n",
       "    <tr style=\"text-align: right;\">\n",
       "      <th>host_is_superhost</th>\n",
       "      <th>f</th>\n",
       "      <th>t</th>\n",
       "    </tr>\n",
       "    <tr>\n",
       "      <th>host_response_time</th>\n",
       "      <th></th>\n",
       "      <th></th>\n",
       "    </tr>\n",
       "  </thead>\n",
       "  <tbody>\n",
       "    <tr>\n",
       "      <th>a few days or more</th>\n",
       "      <td>900</td>\n",
       "      <td>20</td>\n",
       "    </tr>\n",
       "    <tr>\n",
       "      <th>within a day</th>\n",
       "      <td>4013</td>\n",
       "      <td>801</td>\n",
       "    </tr>\n",
       "    <tr>\n",
       "      <th>within a few hours</th>\n",
       "      <td>4539</td>\n",
       "      <td>1826</td>\n",
       "    </tr>\n",
       "    <tr>\n",
       "      <th>within an hour</th>\n",
       "      <td>13869</td>\n",
       "      <td>5175</td>\n",
       "    </tr>\n",
       "  </tbody>\n",
       "</table>\n",
       "</div>"
      ],
      "text/plain": [
       "host_is_superhost       f     t\n",
       "host_response_time             \n",
       "a few days or more    900    20\n",
       "within a day         4013   801\n",
       "within a few hours   4539  1826\n",
       "within an hour      13869  5175"
      ]
     },
     "execution_count": 110,
     "metadata": {},
     "output_type": "execute_result"
    }
   ],
   "source": [
    "df_response_selected = round(df_response[[\"f\", \"t\"]])\n",
    "df_response_selected"
   ]
  },
  {
   "cell_type": "code",
   "execution_count": 43,
   "metadata": {},
   "outputs": [],
   "source": [
    "import matplotlib.pyplot as plt"
   ]
  },
  {
   "cell_type": "code",
   "execution_count": 44,
   "metadata": {},
   "outputs": [
    {
     "data": {
      "image/png": "[encoded data removed]",
      "text/plain": [
       "<Figure size 640x480 with 1 Axes>"
      ]
     },
     "metadata": {},
     "output_type": "display_data"
    }
   ],
   "source": [
    "# Define a list of colors for each series\n",
    "colors = ['#1f77b4', '#ff7f0e']\n",
    "\n",
    "# Create a bar chart with different colors for each series\n",
    "ax = df_response_selected.plot(kind='bar', color=colors)\n",
    "\n",
    "# Set the chart title and axis labels\n",
    "ax.set_title('Percentage by Response Time')\n",
    "ax.set_xlabel('Response Time')\n",
    "ax.set_ylabel('Percentage')\n",
    "\n",
    "# Show the chart\n",
    "plt.show()"
   ]
  },
  {
   "attachments": {},
   "cell_type": "markdown",
   "metadata": {},
   "source": [
    "#### Conclusion:\n",
    "Super hosts sont très actifs en répondant aux questions/demmandes des clients. Plus de 70% d'entre eux répondent soit dans une heure soit dans quelques heures. \n",
    "\n",
    "C'est plutôt un vrai business pour les superhots alors on passe plus de temps sur la plateforme ?"
   ]
  },
  {
   "attachments": {},
   "cell_type": "markdown",
   "metadata": {},
   "source": [
    "## Repartition des superhosts dans les quartiers \n",
    "\n",
    "Devrait-il calculer plutôt les hosts qui ont plus de 4.5 que les superhosts ? \n",
    "\n",
    "C'est necessaire ?\n",
    "\n"
   ]
  },
  {
   "cell_type": "code",
   "execution_count": 20,
   "metadata": {},
   "outputs": [
    {
     "data": {
      "text/plain": [
       "host_neighbourhood  host_id    host_since  instant_bookable\n",
       "Alésia              117929471  2017-02-24  f                   9\n",
       "                    37410043   2015-07-03  f                   4\n",
       "                    3058901    2012-07-26  f                   3\n",
       "                    2767647    2012-06-28  f                   2\n",
       "                    26142513   2015-01-15  f                   2\n",
       "                                                              ..\n",
       "XIV Arrondissement  230617114  2018-12-14  f                   1\n",
       "                    175987881  2018-03-01  f                   1\n",
       "XV Arrondissement   81326448   2016-07-02  f                   1\n",
       "XVI Arrondissement  16671553   2014-06-11  f                   1\n",
       "Zona 5              30583681   2015-04-04  f                   6\n",
       "Length: 3286, dtype: int64"
      ]
     },
     "execution_count": 20,
     "metadata": {},
     "output_type": "execute_result"
    }
   ],
   "source": [
    "# superhost_quartier = paris_l_clean[paris_l_clean[\"host_is_superhost\" == \"t\"]].groupby(\"neighbourhood_cleansed\").value_counts()\n",
    "superhost_quartier = paris_l_clean[paris_l_clean[\"host_is_superhost\"] == \"t\"]\n",
    "superhost_quartier.head(3)\n",
    "superhost_quartier = superhost_quartier[[\"host_id\", \"host_since\", \"host_neighbourhood\", \"instant_bookable\"]]\n",
    "superhost_quartier.head(3)\n",
    "count_superhost_quartier = superhost_quartier.groupby(\"host_neighbourhood\").value_counts()\n",
    "count_superhost_quartier\n"
   ]
  },
  {
   "attachments": {},
   "cell_type": "markdown",
   "metadata": {},
   "source": []
  },
  {
   "attachments": {},
   "cell_type": "markdown",
   "metadata": {},
   "source": [
    "# Extra questions : \n",
    "\n",
    "- Est-ce qu’un SuperHost satisfait mieux un client qu’un Host ? Regarder avec le score rating et les autres score rating\n",
    "\n",
    "- SuperHost : cb de logement en moyenne ? quel tarif moyen ? / comparer avec les chiffres des Host"
   ]
  },
  {
   "cell_type": "code",
   "execution_count": 7,
   "metadata": {},
   "outputs": [
    {
     "data": {
      "text/html": [
       "<div>\n",
       "<style scoped>\n",
       "    .dataframe tbody tr th:only-of-type {\n",
       "        vertical-align: middle;\n",
       "    }\n",
       "\n",
       "    .dataframe tbody tr th {\n",
       "        vertical-align: top;\n",
       "    }\n",
       "\n",
       "    .dataframe thead th {\n",
       "        text-align: right;\n",
       "    }\n",
       "</style>\n",
       "<table border=\"1\" class=\"dataframe\">\n",
       "  <thead>\n",
       "    <tr style=\"text-align: right;\">\n",
       "      <th></th>\n",
       "      <th>id</th>\n",
       "      <th>host_id</th>\n",
       "      <th>host_name</th>\n",
       "      <th>host_since</th>\n",
       "      <th>host_response_time</th>\n",
       "      <th>host_response_rate</th>\n",
       "      <th>host_acceptance_rate</th>\n",
       "      <th>host_is_superhost</th>\n",
       "      <th>host_neighbourhood</th>\n",
       "      <th>host_listings_count</th>\n",
       "      <th>...</th>\n",
       "      <th>review_scores_checkin</th>\n",
       "      <th>review_scores_communication</th>\n",
       "      <th>review_scores_location</th>\n",
       "      <th>review_scores_value</th>\n",
       "      <th>instant_bookable</th>\n",
       "      <th>calculated_host_listings_count</th>\n",
       "      <th>calculated_host_listings_count_entire_homes</th>\n",
       "      <th>calculated_host_listings_count_private_rooms</th>\n",
       "      <th>calculated_host_listings_count_shared_rooms</th>\n",
       "      <th>reviews_per_month</th>\n",
       "    </tr>\n",
       "  </thead>\n",
       "  <tbody>\n",
       "    <tr>\n",
       "      <th>0</th>\n",
       "      <td>5396</td>\n",
       "      <td>7903</td>\n",
       "      <td>Borzou</td>\n",
       "      <td>2009-02-14</td>\n",
       "      <td>within an hour</td>\n",
       "      <td>100%</td>\n",
       "      <td>99%</td>\n",
       "      <td>f</td>\n",
       "      <td>Saint-Paul - Ile Saint-Louis</td>\n",
       "      <td>1.0</td>\n",
       "      <td>...</td>\n",
       "      <td>4.79</td>\n",
       "      <td>4.83</td>\n",
       "      <td>4.95</td>\n",
       "      <td>4.54</td>\n",
       "      <td>f</td>\n",
       "      <td>1</td>\n",
       "      <td>1</td>\n",
       "      <td>0</td>\n",
       "      <td>0</td>\n",
       "      <td>1.99</td>\n",
       "    </tr>\n",
       "    <tr>\n",
       "      <th>1</th>\n",
       "      <td>7397</td>\n",
       "      <td>2626</td>\n",
       "      <td>Franck</td>\n",
       "      <td>2008-08-30</td>\n",
       "      <td>within an hour</td>\n",
       "      <td>100%</td>\n",
       "      <td>67%</td>\n",
       "      <td>t</td>\n",
       "      <td>Le Marais</td>\n",
       "      <td>3.0</td>\n",
       "      <td>...</td>\n",
       "      <td>4.91</td>\n",
       "      <td>4.88</td>\n",
       "      <td>4.93</td>\n",
       "      <td>4.73</td>\n",
       "      <td>f</td>\n",
       "      <td>2</td>\n",
       "      <td>2</td>\n",
       "      <td>0</td>\n",
       "      <td>0</td>\n",
       "      <td>2.26</td>\n",
       "    </tr>\n",
       "    <tr>\n",
       "      <th>2</th>\n",
       "      <td>7964</td>\n",
       "      <td>22155</td>\n",
       "      <td>Anaïs</td>\n",
       "      <td>2009-06-18</td>\n",
       "      <td>NaN</td>\n",
       "      <td>NaN</td>\n",
       "      <td>NaN</td>\n",
       "      <td>f</td>\n",
       "      <td>Gare du Nord - Gare de I'Est</td>\n",
       "      <td>1.0</td>\n",
       "      <td>...</td>\n",
       "      <td>5.00</td>\n",
       "      <td>5.00</td>\n",
       "      <td>5.00</td>\n",
       "      <td>5.00</td>\n",
       "      <td>f</td>\n",
       "      <td>1</td>\n",
       "      <td>1</td>\n",
       "      <td>0</td>\n",
       "      <td>0</td>\n",
       "      <td>0.04</td>\n",
       "    </tr>\n",
       "  </tbody>\n",
       "</table>\n",
       "<p>3 rows × 56 columns</p>\n",
       "</div>"
      ],
      "text/plain": [
       "     id  host_id host_name  host_since host_response_time host_response_rate  \\\n",
       "0  5396     7903    Borzou  2009-02-14     within an hour               100%   \n",
       "1  7397     2626    Franck  2008-08-30     within an hour               100%   \n",
       "2  7964    22155     Anaïs  2009-06-18                NaN                NaN   \n",
       "\n",
       "  host_acceptance_rate host_is_superhost            host_neighbourhood  \\\n",
       "0                  99%                 f  Saint-Paul - Ile Saint-Louis   \n",
       "1                  67%                 t                     Le Marais   \n",
       "2                  NaN                 f  Gare du Nord - Gare de I'Est   \n",
       "\n",
       "   host_listings_count  ...  review_scores_checkin  \\\n",
       "0                  1.0  ...                   4.79   \n",
       "1                  3.0  ...                   4.91   \n",
       "2                  1.0  ...                   5.00   \n",
       "\n",
       "  review_scores_communication review_scores_location review_scores_value  \\\n",
       "0                        4.83                   4.95                4.54   \n",
       "1                        4.88                   4.93                4.73   \n",
       "2                        5.00                   5.00                5.00   \n",
       "\n",
       "  instant_bookable  calculated_host_listings_count  \\\n",
       "0                f                               1   \n",
       "1                f                               2   \n",
       "2                f                               1   \n",
       "\n",
       "   calculated_host_listings_count_entire_homes  \\\n",
       "0                                            1   \n",
       "1                                            2   \n",
       "2                                            1   \n",
       "\n",
       "  calculated_host_listings_count_private_rooms  \\\n",
       "0                                            0   \n",
       "1                                            0   \n",
       "2                                            0   \n",
       "\n",
       "  calculated_host_listings_count_shared_rooms  reviews_per_month  \n",
       "0                                           0               1.99  \n",
       "1                                           0               2.26  \n",
       "2                                           0               0.04  \n",
       "\n",
       "[3 rows x 56 columns]"
      ]
     },
     "execution_count": 7,
     "metadata": {},
     "output_type": "execute_result"
    }
   ],
   "source": [
    "paris_l_clean.head(3)"
   ]
  },
  {
   "cell_type": "code",
   "execution_count": 68,
   "metadata": {},
   "outputs": [
    {
     "data": {
      "text/plain": [
       "Index(['id', 'host_id', 'host_name', 'host_since', 'host_response_time',\n",
       "       'host_response_rate', 'host_acceptance_rate', 'host_is_superhost',\n",
       "       'host_neighbourhood', 'host_listings_count',\n",
       "       'host_total_listings_count', 'host_has_profile_pic',\n",
       "       'host_identity_verified', 'neighbourhood', 'neighbourhood_cleansed',\n",
       "       'latitude', 'longitude', 'property_type', 'room_type', 'accommodates',\n",
       "       'bathrooms_text', 'bedrooms', 'beds', 'amenities', 'price',\n",
       "       'minimum_nights', 'maximum_nights', 'minimum_minimum_nights',\n",
       "       'maximum_minimum_nights', 'minimum_maximum_nights',\n",
       "       'maximum_maximum_nights', 'minimum_nights_avg_ntm',\n",
       "       'maximum_nights_avg_ntm', 'has_availability', 'availability_30',\n",
       "       'availability_60', 'availability_90', 'availability_365',\n",
       "       'number_of_reviews', 'number_of_reviews_ltm', 'number_of_reviews_l30d',\n",
       "       'first_review', 'last_review', 'review_scores_rating',\n",
       "       'review_scores_accuracy', 'review_scores_cleanliness',\n",
       "       'review_scores_checkin', 'review_scores_communication',\n",
       "       'review_scores_location', 'review_scores_value', 'instant_bookable',\n",
       "       'calculated_host_listings_count',\n",
       "       'calculated_host_listings_count_entire_homes',\n",
       "       'calculated_host_listings_count_private_rooms',\n",
       "       'calculated_host_listings_count_shared_rooms', 'reviews_per_month'],\n",
       "      dtype='object')"
      ]
     },
     "execution_count": 68,
     "metadata": {},
     "output_type": "execute_result"
    }
   ],
   "source": [
    "paris_l_clean.columns"
   ]
  },
  {
   "cell_type": "code",
   "execution_count": 21,
   "metadata": {},
   "outputs": [
    {
     "data": {
      "text/html": [
       "<div>\n",
       "<style scoped>\n",
       "    .dataframe tbody tr th:only-of-type {\n",
       "        vertical-align: middle;\n",
       "    }\n",
       "\n",
       "    .dataframe tbody tr th {\n",
       "        vertical-align: top;\n",
       "    }\n",
       "\n",
       "    .dataframe thead th {\n",
       "        text-align: right;\n",
       "    }\n",
       "</style>\n",
       "<table border=\"1\" class=\"dataframe\">\n",
       "  <thead>\n",
       "    <tr style=\"text-align: right;\">\n",
       "      <th></th>\n",
       "      <th>host_id</th>\n",
       "      <th>count</th>\n",
       "    </tr>\n",
       "  </thead>\n",
       "  <tbody>\n",
       "    <tr>\n",
       "      <th>37315</th>\n",
       "      <td>314994947</td>\n",
       "      <td>447</td>\n",
       "    </tr>\n",
       "    <tr>\n",
       "      <th>23936</th>\n",
       "      <td>50978178</td>\n",
       "      <td>230</td>\n",
       "    </tr>\n",
       "    <tr>\n",
       "      <th>23839</th>\n",
       "      <td>50502817</td>\n",
       "      <td>214</td>\n",
       "    </tr>\n",
       "    <tr>\n",
       "      <th>6437</th>\n",
       "      <td>7642792</td>\n",
       "      <td>196</td>\n",
       "    </tr>\n",
       "    <tr>\n",
       "      <th>39771</th>\n",
       "      <td>440295601</td>\n",
       "      <td>195</td>\n",
       "    </tr>\n",
       "    <tr>\n",
       "      <th>...</th>\n",
       "      <td>...</td>\n",
       "      <td>...</td>\n",
       "    </tr>\n",
       "    <tr>\n",
       "      <th>14759</th>\n",
       "      <td>21726008</td>\n",
       "      <td>1</td>\n",
       "    </tr>\n",
       "    <tr>\n",
       "      <th>14760</th>\n",
       "      <td>21729254</td>\n",
       "      <td>1</td>\n",
       "    </tr>\n",
       "    <tr>\n",
       "      <th>14761</th>\n",
       "      <td>21729719</td>\n",
       "      <td>1</td>\n",
       "    </tr>\n",
       "    <tr>\n",
       "      <th>14762</th>\n",
       "      <td>21731630</td>\n",
       "      <td>1</td>\n",
       "    </tr>\n",
       "    <tr>\n",
       "      <th>42489</th>\n",
       "      <td>504998733</td>\n",
       "      <td>1</td>\n",
       "    </tr>\n",
       "  </tbody>\n",
       "</table>\n",
       "<p>42490 rows × 2 columns</p>\n",
       "</div>"
      ],
      "text/plain": [
       "         host_id  count\n",
       "37315  314994947    447\n",
       "23936   50978178    230\n",
       "23839   50502817    214\n",
       "6437     7642792    196\n",
       "39771  440295601    195\n",
       "...          ...    ...\n",
       "14759   21726008      1\n",
       "14760   21729254      1\n",
       "14761   21729719      1\n",
       "14762   21731630      1\n",
       "42489  504998733      1\n",
       "\n",
       "[42490 rows x 2 columns]"
      ]
     },
     "execution_count": 21,
     "metadata": {},
     "output_type": "execute_result"
    }
   ],
   "source": [
    "# compter les nombre de listings que chaque host a\n",
    "listing_per_host = paris_l_clean.groupby([\"host_id\"]).size().reset_index(name='count')\n",
    "listing_per_host\n",
    "listing_per_host.sort_values(by=\"count\", ascending=False)"
   ]
  },
  {
   "cell_type": "code",
   "execution_count": 23,
   "metadata": {},
   "outputs": [
    {
     "data": {
      "text/html": [
       "<div>\n",
       "<style scoped>\n",
       "    .dataframe tbody tr th:only-of-type {\n",
       "        vertical-align: middle;\n",
       "    }\n",
       "\n",
       "    .dataframe tbody tr th {\n",
       "        vertical-align: top;\n",
       "    }\n",
       "\n",
       "    .dataframe thead th {\n",
       "        text-align: right;\n",
       "    }\n",
       "</style>\n",
       "<table border=\"1\" class=\"dataframe\">\n",
       "  <thead>\n",
       "    <tr style=\"text-align: right;\">\n",
       "      <th></th>\n",
       "      <th>host_is_superhost</th>\n",
       "      <th>host_id</th>\n",
       "      <th>count</th>\n",
       "    </tr>\n",
       "  </thead>\n",
       "  <tbody>\n",
       "    <tr>\n",
       "      <th>31847</th>\n",
       "      <td>f</td>\n",
       "      <td>314994947</td>\n",
       "      <td>447</td>\n",
       "    </tr>\n",
       "    <tr>\n",
       "      <th>20358</th>\n",
       "      <td>f</td>\n",
       "      <td>50978178</td>\n",
       "      <td>230</td>\n",
       "    </tr>\n",
       "    <tr>\n",
       "      <th>20271</th>\n",
       "      <td>f</td>\n",
       "      <td>50502817</td>\n",
       "      <td>214</td>\n",
       "    </tr>\n",
       "    <tr>\n",
       "      <th>5282</th>\n",
       "      <td>f</td>\n",
       "      <td>7642792</td>\n",
       "      <td>196</td>\n",
       "    </tr>\n",
       "    <tr>\n",
       "      <th>33919</th>\n",
       "      <td>f</td>\n",
       "      <td>440295601</td>\n",
       "      <td>195</td>\n",
       "    </tr>\n",
       "    <tr>\n",
       "      <th>16335</th>\n",
       "      <td>f</td>\n",
       "      <td>33889201</td>\n",
       "      <td>182</td>\n",
       "    </tr>\n",
       "    <tr>\n",
       "      <th>34394</th>\n",
       "      <td>f</td>\n",
       "      <td>458533553</td>\n",
       "      <td>165</td>\n",
       "    </tr>\n",
       "    <tr>\n",
       "      <th>14114</th>\n",
       "      <td>f</td>\n",
       "      <td>26981054</td>\n",
       "      <td>156</td>\n",
       "    </tr>\n",
       "    <tr>\n",
       "      <th>33207</th>\n",
       "      <td>f</td>\n",
       "      <td>402191311</td>\n",
       "      <td>141</td>\n",
       "    </tr>\n",
       "    <tr>\n",
       "      <th>3945</th>\n",
       "      <td>f</td>\n",
       "      <td>6053288</td>\n",
       "      <td>131</td>\n",
       "    </tr>\n",
       "    <tr>\n",
       "      <th>20466</th>\n",
       "      <td>f</td>\n",
       "      <td>51567288</td>\n",
       "      <td>106</td>\n",
       "    </tr>\n",
       "    <tr>\n",
       "      <th>34458</th>\n",
       "      <td>f</td>\n",
       "      <td>460047164</td>\n",
       "      <td>104</td>\n",
       "    </tr>\n",
       "    <tr>\n",
       "      <th>1129</th>\n",
       "      <td>f</td>\n",
       "      <td>2107478</td>\n",
       "      <td>95</td>\n",
       "    </tr>\n",
       "    <tr>\n",
       "      <th>33837</th>\n",
       "      <td>f</td>\n",
       "      <td>435014515</td>\n",
       "      <td>94</td>\n",
       "    </tr>\n",
       "    <tr>\n",
       "      <th>530</th>\n",
       "      <td>f</td>\n",
       "      <td>1112584</td>\n",
       "      <td>92</td>\n",
       "    </tr>\n",
       "    <tr>\n",
       "      <th>33935</th>\n",
       "      <td>f</td>\n",
       "      <td>440992832</td>\n",
       "      <td>91</td>\n",
       "    </tr>\n",
       "    <tr>\n",
       "      <th>33936</th>\n",
       "      <td>f</td>\n",
       "      <td>440992928</td>\n",
       "      <td>91</td>\n",
       "    </tr>\n",
       "    <tr>\n",
       "      <th>12335</th>\n",
       "      <td>f</td>\n",
       "      <td>21630783</td>\n",
       "      <td>88</td>\n",
       "    </tr>\n",
       "    <tr>\n",
       "      <th>32873</th>\n",
       "      <td>f</td>\n",
       "      <td>374553401</td>\n",
       "      <td>87</td>\n",
       "    </tr>\n",
       "    <tr>\n",
       "      <th>27451</th>\n",
       "      <td>f</td>\n",
       "      <td>147018685</td>\n",
       "      <td>86</td>\n",
       "    </tr>\n",
       "    <tr>\n",
       "      <th>3215</th>\n",
       "      <td>f</td>\n",
       "      <td>5027164</td>\n",
       "      <td>85</td>\n",
       "    </tr>\n",
       "    <tr>\n",
       "      <th>35228</th>\n",
       "      <td>f</td>\n",
       "      <td>479175248</td>\n",
       "      <td>80</td>\n",
       "    </tr>\n",
       "    <tr>\n",
       "      <th>96</th>\n",
       "      <td>f</td>\n",
       "      <td>152242</td>\n",
       "      <td>79</td>\n",
       "    </tr>\n",
       "    <tr>\n",
       "      <th>35518</th>\n",
       "      <td>f</td>\n",
       "      <td>486198067</td>\n",
       "      <td>75</td>\n",
       "    </tr>\n",
       "    <tr>\n",
       "      <th>32872</th>\n",
       "      <td>f</td>\n",
       "      <td>374552379</td>\n",
       "      <td>74</td>\n",
       "    </tr>\n",
       "    <tr>\n",
       "      <th>35226</th>\n",
       "      <td>f</td>\n",
       "      <td>479170945</td>\n",
       "      <td>74</td>\n",
       "    </tr>\n",
       "    <tr>\n",
       "      <th>26375</th>\n",
       "      <td>f</td>\n",
       "      <td>125797498</td>\n",
       "      <td>71</td>\n",
       "    </tr>\n",
       "    <tr>\n",
       "      <th>28935</th>\n",
       "      <td>f</td>\n",
       "      <td>193397737</td>\n",
       "      <td>71</td>\n",
       "    </tr>\n",
       "    <tr>\n",
       "      <th>13355</th>\n",
       "      <td>f</td>\n",
       "      <td>24495283</td>\n",
       "      <td>69</td>\n",
       "    </tr>\n",
       "    <tr>\n",
       "      <th>33858</th>\n",
       "      <td>f</td>\n",
       "      <td>436103373</td>\n",
       "      <td>66</td>\n",
       "    </tr>\n",
       "    <tr>\n",
       "      <th>36146</th>\n",
       "      <td>f</td>\n",
       "      <td>499962530</td>\n",
       "      <td>66</td>\n",
       "    </tr>\n",
       "    <tr>\n",
       "      <th>27805</th>\n",
       "      <td>f</td>\n",
       "      <td>156775524</td>\n",
       "      <td>66</td>\n",
       "    </tr>\n",
       "    <tr>\n",
       "      <th>32156</th>\n",
       "      <td>f</td>\n",
       "      <td>335998296</td>\n",
       "      <td>65</td>\n",
       "    </tr>\n",
       "    <tr>\n",
       "      <th>31551</th>\n",
       "      <td>f</td>\n",
       "      <td>300765938</td>\n",
       "      <td>61</td>\n",
       "    </tr>\n",
       "    <tr>\n",
       "      <th>24880</th>\n",
       "      <td>f</td>\n",
       "      <td>95389398</td>\n",
       "      <td>58</td>\n",
       "    </tr>\n",
       "    <tr>\n",
       "      <th>20039</th>\n",
       "      <td>f</td>\n",
       "      <td>49237581</td>\n",
       "      <td>56</td>\n",
       "    </tr>\n",
       "    <tr>\n",
       "      <th>5083</th>\n",
       "      <td>f</td>\n",
       "      <td>7420288</td>\n",
       "      <td>56</td>\n",
       "    </tr>\n",
       "    <tr>\n",
       "      <th>7547</th>\n",
       "      <td>f</td>\n",
       "      <td>11593703</td>\n",
       "      <td>55</td>\n",
       "    </tr>\n",
       "    <tr>\n",
       "      <th>33577</th>\n",
       "      <td>f</td>\n",
       "      <td>421961959</td>\n",
       "      <td>55</td>\n",
       "    </tr>\n",
       "    <tr>\n",
       "      <th>36876</th>\n",
       "      <td>t</td>\n",
       "      <td>3421007</td>\n",
       "      <td>53</td>\n",
       "    </tr>\n",
       "    <tr>\n",
       "      <th>34106</th>\n",
       "      <td>f</td>\n",
       "      <td>448405235</td>\n",
       "      <td>53</td>\n",
       "    </tr>\n",
       "    <tr>\n",
       "      <th>34590</th>\n",
       "      <td>f</td>\n",
       "      <td>464019948</td>\n",
       "      <td>53</td>\n",
       "    </tr>\n",
       "    <tr>\n",
       "      <th>25088</th>\n",
       "      <td>f</td>\n",
       "      <td>99040006</td>\n",
       "      <td>52</td>\n",
       "    </tr>\n",
       "    <tr>\n",
       "      <th>32175</th>\n",
       "      <td>f</td>\n",
       "      <td>336826561</td>\n",
       "      <td>50</td>\n",
       "    </tr>\n",
       "    <tr>\n",
       "      <th>33251</th>\n",
       "      <td>f</td>\n",
       "      <td>404875280</td>\n",
       "      <td>49</td>\n",
       "    </tr>\n",
       "    <tr>\n",
       "      <th>33126</th>\n",
       "      <td>f</td>\n",
       "      <td>396754479</td>\n",
       "      <td>48</td>\n",
       "    </tr>\n",
       "    <tr>\n",
       "      <th>29822</th>\n",
       "      <td>f</td>\n",
       "      <td>226958437</td>\n",
       "      <td>47</td>\n",
       "    </tr>\n",
       "    <tr>\n",
       "      <th>8211</th>\n",
       "      <td>f</td>\n",
       "      <td>13013633</td>\n",
       "      <td>46</td>\n",
       "    </tr>\n",
       "    <tr>\n",
       "      <th>20154</th>\n",
       "      <td>f</td>\n",
       "      <td>49869502</td>\n",
       "      <td>46</td>\n",
       "    </tr>\n",
       "    <tr>\n",
       "      <th>32875</th>\n",
       "      <td>f</td>\n",
       "      <td>374635441</td>\n",
       "      <td>46</td>\n",
       "    </tr>\n",
       "  </tbody>\n",
       "</table>\n",
       "</div>"
      ],
      "text/plain": [
       "      host_is_superhost    host_id  count\n",
       "31847                 f  314994947    447\n",
       "20358                 f   50978178    230\n",
       "20271                 f   50502817    214\n",
       "5282                  f    7642792    196\n",
       "33919                 f  440295601    195\n",
       "16335                 f   33889201    182\n",
       "34394                 f  458533553    165\n",
       "14114                 f   26981054    156\n",
       "33207                 f  402191311    141\n",
       "3945                  f    6053288    131\n",
       "20466                 f   51567288    106\n",
       "34458                 f  460047164    104\n",
       "1129                  f    2107478     95\n",
       "33837                 f  435014515     94\n",
       "530                   f    1112584     92\n",
       "33935                 f  440992832     91\n",
       "33936                 f  440992928     91\n",
       "12335                 f   21630783     88\n",
       "32873                 f  374553401     87\n",
       "27451                 f  147018685     86\n",
       "3215                  f    5027164     85\n",
       "35228                 f  479175248     80\n",
       "96                    f     152242     79\n",
       "35518                 f  486198067     75\n",
       "32872                 f  374552379     74\n",
       "35226                 f  479170945     74\n",
       "26375                 f  125797498     71\n",
       "28935                 f  193397737     71\n",
       "13355                 f   24495283     69\n",
       "33858                 f  436103373     66\n",
       "36146                 f  499962530     66\n",
       "27805                 f  156775524     66\n",
       "32156                 f  335998296     65\n",
       "31551                 f  300765938     61\n",
       "24880                 f   95389398     58\n",
       "20039                 f   49237581     56\n",
       "5083                  f    7420288     56\n",
       "7547                  f   11593703     55\n",
       "33577                 f  421961959     55\n",
       "36876                 t    3421007     53\n",
       "34106                 f  448405235     53\n",
       "34590                 f  464019948     53\n",
       "25088                 f   99040006     52\n",
       "32175                 f  336826561     50\n",
       "33251                 f  404875280     49\n",
       "33126                 f  396754479     48\n",
       "29822                 f  226958437     47\n",
       "8211                  f   13013633     46\n",
       "20154                 f   49869502     46\n",
       "32875                 f  374635441     46"
      ]
     },
     "execution_count": 23,
     "metadata": {},
     "output_type": "execute_result"
    }
   ],
   "source": [
    "# compter le nombre d'annonces que chaque host a et si il est superhost\n",
    "listing_per_super_host = paris_l_clean.groupby([\"host_is_superhost\", \"host_id\"]).size().reset_index(name='count')\n",
    "listing_per_super_host\n",
    "listing_per_super_host.sort_values(by=\"count\", ascending=False).head(50)"
   ]
  },
  {
   "cell_type": "code",
   "execution_count": 33,
   "metadata": {},
   "outputs": [],
   "source": [
    "superhosts = paris_l_clean[paris_l_clean['host_is_superhost'] == 't']\n",
    "normal_hosts = paris_l_clean[paris_l_clean['host_is_superhost'] == 'f']\n",
    "\n",
    "# Calculate the average number of announces for each group\n",
    "avg_announces_superhosts = superhosts.groupby('host_id')['id'].count().mean()\n",
    "avg_announces_normal_hosts = normal_hosts.groupby('host_id')['id'].count().mean()"
   ]
  },
  {
   "cell_type": "code",
   "execution_count": 34,
   "metadata": {},
   "outputs": [
    {
     "data": {
      "text/plain": [
       "1.3779269690519076"
      ]
     },
     "execution_count": 34,
     "metadata": {},
     "output_type": "execute_result"
    }
   ],
   "source": [
    "avg_announces_superhosts"
   ]
  },
  {
   "cell_type": "code",
   "execution_count": 35,
   "metadata": {},
   "outputs": [
    {
     "data": {
      "text/plain": [
       "1.3279504814305365"
      ]
     },
     "execution_count": 35,
     "metadata": {},
     "output_type": "execute_result"
    }
   ],
   "source": [
    "avg_announces_normal_hosts"
   ]
  },
  {
   "attachments": {},
   "cell_type": "markdown",
   "metadata": {},
   "source": [
    "#### Conclusion : \n",
    "\n",
    "Pas de différence remarkable au niveau de nombre d'annonce moyen entre les deux groupes de hosts\n",
    "\n",
    "les 20 hosts aves les plus grands nombres d'annonces ne sont pas superhosts \n",
    "\n"
   ]
  },
  {
   "cell_type": "code",
   "execution_count": 50,
   "metadata": {},
   "outputs": [],
   "source": [
    "superhost_scores = paris_l_clean[paris_l_clean['host_is_superhost'] == 't'][['review_scores_accuracy', 'review_scores_cleanliness', 'review_scores_checkin', 'review_scores_communication', 'review_scores_location', 'review_scores_value']].mean()\n",
    "non_superhost_scores = paris_l_clean[paris_l_clean['host_is_superhost'] == 'f'][['review_scores_accuracy', 'review_scores_cleanliness', 'review_scores_checkin', 'review_scores_communication', 'review_scores_location', 'review_scores_value']].mean()"
   ]
  },
  {
   "attachments": {},
   "cell_type": "markdown",
   "metadata": {},
   "source": [
    "# Notes moyennes - hosts vs.super hosts "
   ]
  },
  {
   "cell_type": "code",
   "execution_count": 47,
   "metadata": {},
   "outputs": [
    {
     "data": {
      "text/plain": [
       "review_scores_accuracy         4.88\n",
       "review_scores_cleanliness      4.80\n",
       "review_scores_checkin          4.90\n",
       "review_scores_communication    4.92\n",
       "review_scores_location         4.88\n",
       "review_scores_value            4.74\n",
       "dtype: float64"
      ]
     },
     "execution_count": 47,
     "metadata": {},
     "output_type": "execute_result"
    }
   ],
   "source": [
    "round(superhost_scores,2)"
   ]
  },
  {
   "cell_type": "code",
   "execution_count": 60,
   "metadata": {},
   "outputs": [
    {
     "data": {
      "text/html": [
       "<div>\n",
       "<style scoped>\n",
       "    .dataframe tbody tr th:only-of-type {\n",
       "        vertical-align: middle;\n",
       "    }\n",
       "\n",
       "    .dataframe tbody tr th {\n",
       "        vertical-align: top;\n",
       "    }\n",
       "\n",
       "    .dataframe thead th {\n",
       "        text-align: right;\n",
       "    }\n",
       "</style>\n",
       "<table border=\"1\" class=\"dataframe\">\n",
       "  <thead>\n",
       "    <tr style=\"text-align: right;\">\n",
       "      <th></th>\n",
       "      <th>0</th>\n",
       "    </tr>\n",
       "  </thead>\n",
       "  <tbody>\n",
       "    <tr>\n",
       "      <th>review_scores_accuracy</th>\n",
       "      <td>4.880580</td>\n",
       "    </tr>\n",
       "    <tr>\n",
       "      <th>review_scores_cleanliness</th>\n",
       "      <td>4.801362</td>\n",
       "    </tr>\n",
       "    <tr>\n",
       "      <th>review_scores_checkin</th>\n",
       "      <td>4.904450</td>\n",
       "    </tr>\n",
       "    <tr>\n",
       "      <th>review_scores_communication</th>\n",
       "      <td>4.922638</td>\n",
       "    </tr>\n",
       "    <tr>\n",
       "      <th>review_scores_location</th>\n",
       "      <td>4.877241</td>\n",
       "    </tr>\n",
       "    <tr>\n",
       "      <th>review_scores_value</th>\n",
       "      <td>4.744916</td>\n",
       "    </tr>\n",
       "  </tbody>\n",
       "</table>\n",
       "</div>"
      ],
      "text/plain": [
       "                                    0\n",
       "review_scores_accuracy       4.880580\n",
       "review_scores_cleanliness    4.801362\n",
       "review_scores_checkin        4.904450\n",
       "review_scores_communication  4.922638\n",
       "review_scores_location       4.877241\n",
       "review_scores_value          4.744916"
      ]
     },
     "execution_count": 60,
     "metadata": {},
     "output_type": "execute_result"
    }
   ],
   "source": [
    "superhost_scores"
   ]
  },
  {
   "cell_type": "code",
   "execution_count": 48,
   "metadata": {},
   "outputs": [
    {
     "data": {
      "text/plain": [
       "review_scores_accuracy         4.71\n",
       "review_scores_cleanliness      4.54\n",
       "review_scores_checkin          4.76\n",
       "review_scores_communication    4.77\n",
       "review_scores_location         4.78\n",
       "review_scores_value            4.56\n",
       "dtype: float64"
      ]
     },
     "execution_count": 48,
     "metadata": {},
     "output_type": "execute_result"
    }
   ],
   "source": [
    "round(non_superhost_scores,2)"
   ]
  },
  {
   "cell_type": "code",
   "execution_count": 63,
   "metadata": {},
   "outputs": [
    {
     "data": {
      "text/html": [
       "<div>\n",
       "<style scoped>\n",
       "    .dataframe tbody tr th:only-of-type {\n",
       "        vertical-align: middle;\n",
       "    }\n",
       "\n",
       "    .dataframe tbody tr th {\n",
       "        vertical-align: top;\n",
       "    }\n",
       "\n",
       "    .dataframe thead th {\n",
       "        text-align: right;\n",
       "    }\n",
       "</style>\n",
       "<table border=\"1\" class=\"dataframe\">\n",
       "  <thead>\n",
       "    <tr style=\"text-align: right;\">\n",
       "      <th></th>\n",
       "      <th>0</th>\n",
       "    </tr>\n",
       "  </thead>\n",
       "  <tbody>\n",
       "    <tr>\n",
       "      <th>review_scores_accuracy</th>\n",
       "      <td>4.713690</td>\n",
       "    </tr>\n",
       "    <tr>\n",
       "      <th>review_scores_cleanliness</th>\n",
       "      <td>4.542889</td>\n",
       "    </tr>\n",
       "    <tr>\n",
       "      <th>review_scores_checkin</th>\n",
       "      <td>4.760273</td>\n",
       "    </tr>\n",
       "    <tr>\n",
       "      <th>review_scores_communication</th>\n",
       "      <td>4.773346</td>\n",
       "    </tr>\n",
       "    <tr>\n",
       "      <th>review_scores_location</th>\n",
       "      <td>4.782363</td>\n",
       "    </tr>\n",
       "    <tr>\n",
       "      <th>review_scores_value</th>\n",
       "      <td>4.556462</td>\n",
       "    </tr>\n",
       "  </tbody>\n",
       "</table>\n",
       "</div>"
      ],
      "text/plain": [
       "                                    0\n",
       "review_scores_accuracy       4.713690\n",
       "review_scores_cleanliness    4.542889\n",
       "review_scores_checkin        4.760273\n",
       "review_scores_communication  4.773346\n",
       "review_scores_location       4.782363\n",
       "review_scores_value          4.556462"
      ]
     },
     "execution_count": 63,
     "metadata": {},
     "output_type": "execute_result"
    }
   ],
   "source": [
    "non_superhost_scores"
   ]
  },
  {
   "attachments": {},
   "cell_type": "markdown",
   "metadata": {},
   "source": [
    "#### Conclusion : \n",
    "\n",
    "Superhosts ont des notes plus élévées que les hosts normaux. \n",
    "\n",
    "Différences assez remarkables sur : cleanliness et communication."
   ]
  },
  {
   "attachments": {},
   "cell_type": "markdown",
   "metadata": {},
   "source": [
    "# Commentaires moyens "
   ]
  },
  {
   "cell_type": "code",
   "execution_count": 65,
   "metadata": {},
   "outputs": [],
   "source": [
    "superhost_commentaires = paris_l_clean[paris_l_clean['host_is_superhost'] == 't'][[\"reviews_per_month\"]].mean()\n",
    "non_superhost_commentaires = paris_l_clean[paris_l_clean['host_is_superhost'] == 'f'][[\"reviews_per_month\"]].mean()"
   ]
  },
  {
   "cell_type": "code",
   "execution_count": 66,
   "metadata": {},
   "outputs": [
    {
     "data": {
      "text/plain": [
       "reviews_per_month    1.612295\n",
       "dtype: float64"
      ]
     },
     "execution_count": 66,
     "metadata": {},
     "output_type": "execute_result"
    }
   ],
   "source": [
    "superhost_commentaires"
   ]
  },
  {
   "cell_type": "code",
   "execution_count": 67,
   "metadata": {},
   "outputs": [
    {
     "data": {
      "text/plain": [
       "reviews_per_month    0.88059\n",
       "dtype: float64"
      ]
     },
     "execution_count": 67,
     "metadata": {},
     "output_type": "execute_result"
    }
   ],
   "source": [
    "non_superhost_commentaires"
   ]
  },
  {
   "attachments": {},
   "cell_type": "markdown",
   "metadata": {},
   "source": [
    "#### Conclusion :\n",
    "\n",
    "Les superhosts reçoivent deux fois plus de commentaires par mois au moyen. "
   ]
  },
  {
   "attachments": {},
   "cell_type": "markdown",
   "metadata": {},
   "source": [
    "# Instant booking "
   ]
  },
  {
   "cell_type": "code",
   "execution_count": 24,
   "metadata": {},
   "outputs": [],
   "source": [
    "# note moyenne pour les listings instant_bookable\n",
    "instant_bookable = paris_l_clean[paris_l_clean['instant_bookable'] == 't'][[\"review_scores_rating\"]].mean()\n",
    "non_instant_bookable = paris_l_clean[paris_l_clean['instant_bookable'] == 'f'][[\"review_scores_rating\"]].mean()"
   ]
  },
  {
   "cell_type": "code",
   "execution_count": 25,
   "metadata": {},
   "outputs": [
    {
     "data": {
      "text/plain": [
       "review_scores_rating    4.516832\n",
       "dtype: float64"
      ]
     },
     "execution_count": 25,
     "metadata": {},
     "output_type": "execute_result"
    }
   ],
   "source": [
    "# note moyenne pour les listings avec l'option \"instant_bookable\"\n",
    "instant_bookable"
   ]
  },
  {
   "cell_type": "code",
   "execution_count": 26,
   "metadata": {},
   "outputs": [
    {
     "data": {
      "text/plain": [
       "review_scores_rating    4.64471\n",
       "dtype: float64"
      ]
     },
     "execution_count": 26,
     "metadata": {},
     "output_type": "execute_result"
    }
   ],
   "source": [
    "# note moyenne pour les listings sans l'option \"instant_bookable\"\n",
    "\n",
    "non_instant_bookable"
   ]
  },
  {
   "cell_type": "code",
   "execution_count": 30,
   "metadata": {},
   "outputs": [
    {
     "data": {
      "text/plain": [
       "1804"
      ]
     },
     "execution_count": 30,
     "metadata": {},
     "output_type": "execute_result"
    }
   ],
   "source": [
    "# nombre des superhosts qui acceptent les \"instant_bookable\"\n",
    "# compter le nombre non nulle des \"review_scores_rating\"\n",
    "superhosts_with_instant_bookable = paris_l_clean[(paris_l_clean['host_is_superhost'] == 't') & (paris_l_clean['instant_bookable'] == 't')]['review_scores_rating'].count()\n",
    "superhosts_with_instant_bookable"
   ]
  },
  {
   "cell_type": "code",
   "execution_count": 29,
   "metadata": {},
   "outputs": [
    {
     "data": {
      "text/plain": [
       "10953"
      ]
     },
     "execution_count": 29,
     "metadata": {},
     "output_type": "execute_result"
    }
   ],
   "source": [
    "# nombre des hosts qui acceptent les \"instant bookable\"\n",
    "hosts_with_instant_bookable = paris_l_clean[(paris_l_clean['instant_bookable'] == 't')]['review_scores_rating'].count()\n",
    "hosts_with_instant_bookable"
   ]
  },
  {
   "cell_type": "code",
   "execution_count": 26,
   "metadata": {},
   "outputs": [
    {
     "data": {
      "text/plain": [
       "8415"
      ]
     },
     "execution_count": 26,
     "metadata": {},
     "output_type": "execute_result"
    }
   ],
   "source": [
    "# nombre des superhosts total\n",
    "superhosts_total = paris_l_clean[paris_l_clean['host_is_superhost'] == 't']['host_id'].count()\n",
    "superhosts_total"
   ]
  },
  {
   "cell_type": "code",
   "execution_count": 31,
   "metadata": {},
   "outputs": [
    {
     "data": {
      "text/plain": [
       "21.437908496732025"
      ]
     },
     "execution_count": 31,
     "metadata": {},
     "output_type": "execute_result"
    }
   ],
   "source": [
    "# Pourcentage des superhosts qui acceptent les \"instant_bookable\":\n",
    "percentage = superhosts_with_instant_bookable / superhosts_total * 100\n",
    "percentage"
   ]
  },
  {
   "cell_type": "code",
   "execution_count": 82,
   "metadata": {},
   "outputs": [
    {
     "data": {
      "text/plain": [
       "4.823957871396898"
      ]
     },
     "execution_count": 82,
     "metadata": {},
     "output_type": "execute_result"
    }
   ],
   "source": [
    "noname = paris_l_clean[(paris_l_clean['host_is_superhost'] == 't') & (paris_l_clean['instant_bookable'] == 't')]['review_scores_rating'].mean()\n",
    "noname"
   ]
  },
  {
   "cell_type": "code",
   "execution_count": 83,
   "metadata": {},
   "outputs": [
    {
     "data": {
      "text/plain": [
       "4.8630917797286335"
      ]
     },
     "execution_count": 83,
     "metadata": {},
     "output_type": "execute_result"
    }
   ],
   "source": [
    "noname_1 = paris_l_clean[(paris_l_clean['host_is_superhost'] == 't') & (paris_l_clean['instant_bookable'] == 'f')]['review_scores_rating'].mean()\n",
    "noname_1"
   ]
  },
  {
   "cell_type": "code",
   "execution_count": 19,
   "metadata": {},
   "outputs": [
    {
     "data": {
      "text/plain": [
       "9149"
      ]
     },
     "execution_count": 19,
     "metadata": {},
     "output_type": "execute_result"
    }
   ],
   "source": [
    "# nombre des hosts normaux qui acceptent \"instant_bookable\"\n",
    "normaux_hosts_with_instant_bookable = paris_l_clean[(paris_l_clean['host_is_superhost'] == 'f') & (paris_l_clean['instant_bookable'] == 't')]['review_scores_rating'].count()\n",
    "normaux_hosts_with_instant_bookable"
   ]
  },
  {
   "cell_type": "code",
   "execution_count": 25,
   "metadata": {},
   "outputs": [
    {
     "data": {
      "text/plain": [
       "48271"
      ]
     },
     "execution_count": 25,
     "metadata": {},
     "output_type": "execute_result"
    }
   ],
   "source": [
    "# nombre total de normal hosts \n",
    "total_normaux_hosts = paris_l_clean[paris_l_clean['host_is_superhost'] == 'f'][\"host_id\"].count()\n",
    "total_normaux_hosts"
   ]
  },
  {
   "cell_type": "code",
   "execution_count": 33,
   "metadata": {},
   "outputs": [
    {
     "data": {
      "text/plain": [
       "0.18953408879037104"
      ]
     },
     "execution_count": 33,
     "metadata": {},
     "output_type": "execute_result"
    }
   ],
   "source": [
    "# pourcentage des hosts normaux qui acceptent \"instant_bookable\"\n",
    "percentage_1 = normaux_hosts_with_instant_bookable / total_normaux_hosts\n",
    "percentage_1"
   ]
  },
  {
   "attachments": {},
   "cell_type": "markdown",
   "metadata": {},
   "source": [
    "#### Conclusion :\n",
    "Aue 22% des superhosts acceptent l'option \"instant_bookable\". \n",
    "\n",
    "Le fait que le host accepte l'option \"instant_bookable\" n'a pas effet sur la satisfaction des clients.\n",
    "\n",
    "En fait, les notes moyennes pour les deux groupes (superhost et hosts normaux) qui ne font pas l'instant booking est légèrement plus élévées en plus. "
   ]
  },
  {
   "attachments": {},
   "cell_type": "markdown",
   "metadata": {},
   "source": [
    "# Superhosts et prix "
   ]
  },
  {
   "cell_type": "code",
   "execution_count": 15,
   "metadata": {},
   "outputs": [
    {
     "name": "stderr",
     "output_type": "stream",
     "text": [
      "C:\\Users\\Asus\\AppData\\Local\\Temp\\ipykernel_4584\\1098670715.py:1: SettingWithCopyWarning: \n",
      "A value is trying to be set on a copy of a slice from a DataFrame.\n",
      "Try using .loc[row_indexer,col_indexer] = value instead\n",
      "\n",
      "See the caveats in the documentation: https://pandas.pydata.org/pandas-docs/stable/user_guide/indexing.html#returning-a-view-versus-a-copy\n",
      "  paris_l_clean['price'] = paris_l_clean['price'].str.replace(',', '')\n",
      "C:\\Users\\Asus\\AppData\\Local\\Temp\\ipykernel_4584\\1098670715.py:2: FutureWarning: The default value of regex will change from True to False in a future version. In addition, single character regular expressions will *not* be treated as literal strings when regex=True.\n",
      "  paris_l_clean['price'] = paris_l_clean['price'].str.replace('$', '')\n",
      "C:\\Users\\Asus\\AppData\\Local\\Temp\\ipykernel_4584\\1098670715.py:2: SettingWithCopyWarning: \n",
      "A value is trying to be set on a copy of a slice from a DataFrame.\n",
      "Try using .loc[row_indexer,col_indexer] = value instead\n",
      "\n",
      "See the caveats in the documentation: https://pandas.pydata.org/pandas-docs/stable/user_guide/indexing.html#returning-a-view-versus-a-copy\n",
      "  paris_l_clean['price'] = paris_l_clean['price'].str.replace('$', '')\n"
     ]
    },
    {
     "data": {
      "text/plain": [
       "0        124.00\n",
       "1        130.00\n",
       "2        140.00\n",
       "3         75.00\n",
       "4        160.00\n",
       "          ...  \n",
       "56721    640.00\n",
       "56722    538.00\n",
       "56723    600.00\n",
       "56724    181.00\n",
       "56725    300.00\n",
       "Name: price, Length: 56726, dtype: object"
      ]
     },
     "execution_count": 15,
     "metadata": {},
     "output_type": "execute_result"
    }
   ],
   "source": [
    "paris_l_clean['price'] = paris_l_clean['price'].str.replace(',', '')\n",
    "paris_l_clean['price'] = paris_l_clean['price'].str.replace('$', '')\n",
    "paris_l_clean['price']\n",
    "## retirer les dollars du prix"
   ]
  },
  {
   "cell_type": "code",
   "execution_count": 16,
   "metadata": {},
   "outputs": [
    {
     "name": "stderr",
     "output_type": "stream",
     "text": [
      "C:\\Users\\Asus\\AppData\\Local\\Temp\\ipykernel_4584\\3056532754.py:1: SettingWithCopyWarning: \n",
      "A value is trying to be set on a copy of a slice from a DataFrame.\n",
      "Try using .loc[row_indexer,col_indexer] = value instead\n",
      "\n",
      "See the caveats in the documentation: https://pandas.pydata.org/pandas-docs/stable/user_guide/indexing.html#returning-a-view-versus-a-copy\n",
      "  paris_l_clean['price'] = paris_l_clean['price'].astype(float)\n"
     ]
    }
   ],
   "source": [
    "paris_l_clean['price'] = paris_l_clean['price'].astype(float)\n",
    "## convertion du type du price de object en float64"
   ]
  },
  {
   "cell_type": "code",
   "execution_count": 17,
   "metadata": {},
   "outputs": [
    {
     "data": {
      "text/plain": [
       "<bound method NDFrame.describe of 0        124.0\n",
       "1        130.0\n",
       "2        140.0\n",
       "3         75.0\n",
       "4        160.0\n",
       "         ...  \n",
       "56721    640.0\n",
       "56722    538.0\n",
       "56723    600.0\n",
       "56724    181.0\n",
       "56725    300.0\n",
       "Name: price, Length: 56726, dtype: float64>"
      ]
     },
     "execution_count": 17,
     "metadata": {},
     "output_type": "execute_result"
    }
   ],
   "source": [
    "paris_l_clean['price'].describe"
   ]
  },
  {
   "cell_type": "code",
   "execution_count": 18,
   "metadata": {},
   "outputs": [],
   "source": [
    "# chercher le prix moyen pour chaque groupe\n",
    "prix_moyen = paris_l_clean['price'].mean()\n",
    "superhost_prix = paris_l_clean[paris_l_clean['host_is_superhost'] == 't'][[\"price\"]].mean()\n",
    "non_superhost_prix = paris_l_clean[paris_l_clean['host_is_superhost'] == 'f'][[\"price\"]].mean()"
   ]
  },
  {
   "cell_type": "code",
   "execution_count": 198,
   "metadata": {},
   "outputs": [
    {
     "data": {
      "text/plain": [
       "171.99107992807532"
      ]
     },
     "execution_count": 198,
     "metadata": {},
     "output_type": "execute_result"
    }
   ],
   "source": [
    "prix_moyen"
   ]
  },
  {
   "cell_type": "code",
   "execution_count": 199,
   "metadata": {},
   "outputs": [
    {
     "data": {
      "text/plain": [
       "price    208.587879\n",
       "dtype: float64"
      ]
     },
     "execution_count": 199,
     "metadata": {},
     "output_type": "execute_result"
    }
   ],
   "source": [
    "superhost_prix"
   ]
  },
  {
   "cell_type": "code",
   "execution_count": 200,
   "metadata": {},
   "outputs": [
    {
     "data": {
      "text/plain": [
       "price    164.588262\n",
       "dtype: float64"
      ]
     },
     "execution_count": 200,
     "metadata": {},
     "output_type": "execute_result"
    }
   ],
   "source": [
    "non_superhost_prix"
   ]
  },
  {
   "cell_type": "code",
   "execution_count": 204,
   "metadata": {},
   "outputs": [
    {
     "name": "stderr",
     "output_type": "stream",
     "text": [
      "C:\\Users\\Asus\\AppData\\Local\\Temp\\ipykernel_7624\\3234903234.py:2: SettingWithCopyWarning: \n",
      "A value is trying to be set on a copy of a slice from a DataFrame.\n",
      "Try using .loc[row_indexer,col_indexer] = value instead\n",
      "\n",
      "See the caveats in the documentation: https://pandas.pydata.org/pandas-docs/stable/user_guide/indexing.html#returning-a-view-versus-a-copy\n",
      "  paris_l_clean['host_is_superhost_num'] = paris_l_clean['host_is_superhost'].apply(lambda x: 1 if x == 't' else 0)\n"
     ]
    },
    {
     "data": {
      "text/plain": [
       "0.025529765052007075"
      ]
     },
     "execution_count": 204,
     "metadata": {},
     "output_type": "execute_result"
    }
   ],
   "source": [
    "\n",
    "# Convert \"host_is_superhost\" to numerical format\n",
    "paris_l_clean['host_is_superhost_num'] = paris_l_clean['host_is_superhost'].apply(lambda x: 1 if x == 't' else 0)\n",
    "\n",
    "# Calculate the correlation\n",
    "correlation = paris_l_clean['price'].corr(paris_l_clean['host_is_superhost_num'])\n",
    "correlation\n"
   ]
  },
  {
   "cell_type": "code",
   "execution_count": 6,
   "metadata": {},
   "outputs": [
    {
     "data": {
      "text/plain": [
       "Index(['id', 'host_id', 'host_name', 'host_since', 'host_response_time',\n",
       "       'host_response_rate', 'host_acceptance_rate', 'host_is_superhost',\n",
       "       'host_neighbourhood', 'host_listings_count',\n",
       "       'host_total_listings_count', 'host_has_profile_pic',\n",
       "       'host_identity_verified', 'neighbourhood', 'neighbourhood_cleansed',\n",
       "       'latitude', 'longitude', 'property_type', 'room_type', 'accommodates',\n",
       "       'bathrooms_text', 'bedrooms', 'beds', 'amenities', 'price',\n",
       "       'minimum_nights', 'maximum_nights', 'minimum_minimum_nights',\n",
       "       'maximum_minimum_nights', 'minimum_maximum_nights',\n",
       "       'maximum_maximum_nights', 'minimum_nights_avg_ntm',\n",
       "       'maximum_nights_avg_ntm', 'has_availability', 'availability_30',\n",
       "       'availability_60', 'availability_90', 'availability_365',\n",
       "       'number_of_reviews', 'number_of_reviews_ltm', 'number_of_reviews_l30d',\n",
       "       'first_review', 'last_review', 'review_scores_rating',\n",
       "       'review_scores_accuracy', 'review_scores_cleanliness',\n",
       "       'review_scores_checkin', 'review_scores_communication',\n",
       "       'review_scores_location', 'review_scores_value', 'instant_bookable',\n",
       "       'calculated_host_listings_count',\n",
       "       'calculated_host_listings_count_entire_homes',\n",
       "       'calculated_host_listings_count_private_rooms',\n",
       "       'calculated_host_listings_count_shared_rooms', 'reviews_per_month'],\n",
       "      dtype='object')"
      ]
     },
     "execution_count": 6,
     "metadata": {},
     "output_type": "execute_result"
    }
   ],
   "source": [
    "paris_l_clean.columns"
   ]
  },
  {
   "cell_type": "code",
   "execution_count": 7,
   "metadata": {},
   "outputs": [],
   "source": [
    "# créer un heatmap pour plusieurs colonnes \n",
    "heatmap_testing = paris_l_clean[[\"host_response_rate\", \"host_acceptance_rate\", \"host_neighbourhood\", \"room_type\", \"review_scores_rating\"]]"
   ]
  },
  {
   "cell_type": "code",
   "execution_count": 8,
   "metadata": {},
   "outputs": [
    {
     "data": {
      "image/png": "[encoded data removed]",
      "text/plain": [
       "<Figure size 640x480 with 2 Axes>"
      ]
     },
     "metadata": {},
     "output_type": "display_data"
    }
   ],
   "source": [
    "# Create a heatmap\n",
    "# nothing ever happens as only one column in int \n",
    "sns.heatmap(heatmap_testing.corr(), annot=True, cmap='coolwarm')\n",
    "\n",
    "# Set the title of the heatmap\n",
    "plt.title('Correlation Heatmap')\n",
    "\n",
    "# Show the plot\n",
    "plt.show()"
   ]
  },
  {
   "cell_type": "code",
   "execution_count": null,
   "metadata": {},
   "outputs": [],
   "source": []
  }
 ],
 "metadata": {
  "hide_input": false,
  "kernelspec": {
   "display_name": "base",
   "language": "python",
   "name": "python3"
  },
  "language_info": {
   "codemirror_mode": {
    "name": "ipython",
    "version": 3
   },
   "file_extension": ".py",
   "mimetype": "text/x-python",
   "name": "python",
   "nbconvert_exporter": "python",
   "pygments_lexer": "ipython3",
   "version": "3.9.13"
  },
  "toc": {
   "base_numbering": 1,
   "nav_menu": {},
   "number_sections": true,
   "sideBar": true,
   "skip_h1_title": false,
   "title_cell": "Table of Contents",
   "title_sidebar": "Contents",
   "toc_cell": false,
   "toc_position": {},
   "toc_section_display": true,
   "toc_window_display": false
  },
  "vscode": {
   "interpreter": {
    "hash": "52d90d3cc821dd0beedd6e719dbdecc722c226b9d90ed1b663c34e1877f1142e"
   }
  }
 },
 "nbformat": 4,
 "nbformat_minor": 4
}
